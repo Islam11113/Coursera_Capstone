{
 "cells": [
  {
   "cell_type": "markdown",
   "metadata": {},
   "source": [
    "# __The Battle of Neighborhoods: Indian in New York City__"
   ]
  },
  {
   "cell_type": "markdown",
   "metadata": {},
   "source": [
    "## Introduction/Business Problem"
   ]
  },
  {
   "cell_type": "markdown",
   "metadata": {},
   "source": [
    "### *New York is the largest city in the United States with a long history of international immigration. New York City was home to nearly 8.39 million people in 2018. Over the years the city has been the fastest growing in the region. The New York region continues to be by far the leading metropolitan gateway for legal immigrants admitted into the United States.*\n",
    "\n",
    "\n",
    "### *Throughout its history, New York City has been a major point of entry for immigrants; the term \"melting pot\" was coined to describe densely populated immigrant neighborhoods on the Lower East Side. As many as 800 languages are spoken in New York, making it the most linguistically diverse city in the world. English remains the most widely spoken language, although there are areas in the outer boroughs in which up to 25% of people speak English as an alternate language, and/or have limited or no English language fluency. English is least spoken in neighborhoods such as Flushing, Sunset Park, and Corona.*\n",
    "\n",
    "### *With it's diverse culture , comes diverse food items. There are many resturants in New york City, each beloning to different categories like Chinese , Indian , French etc.*\n",
    "### *So as part of this project , we will list and visualize all major parts of New York City that has great indian resturants.*"
   ]
  },
  {
   "cell_type": "markdown",
   "metadata": {},
   "source": [
    "## Data section"
   ]
  },
  {
   "cell_type": "markdown",
   "metadata": {},
   "source": [
    "### Data For this project we need the following data :\n",
    "#### New York City data that contains list Boroughs, Neighborhoods along with their latitude and longitude. Data source : https://cocl.us/new_york_dataset Description : This data set contains the required information. And we will use this data set to explore various neighborhoods of new york city. Indian resturants in each neighborhood of new york city. Data source : Fousquare API Description : By using this api we will get all the venues in each neighborhood. We can filter these venues to get only indian resturants. GeoSpace data Data source : https://data.cityofnewyork.us/City-Government/Borough-Boundaries/tqmj-j8zm Description : By using this geo space data we will get the New york Borough boundaries that will help us visualize choropleth map."
   ]
  },
  {
   "cell_type": "markdown",
   "metadata": {},
   "source": [
    "#### Using my credentials of Foursquare API features of near-by places of the neighborhoods would be mined. \n",
    "#### Due to http request limitations the number of places per neighborhood parameter would reasonably be set to 100 and the radius parameter would be set to 500. \n",
    "#### Clustering Approach:\n",
    "##### To compare & explore neighborhoods, segment them, and group them into clusters to find neighborhoods meeting more than one of my desired criteria in a big city like New York. #### the Project will also use the following libraries:\n",
    "##### Pandas: For creating and manipulating dataframes.\n",
    "##### Folium: Python visualization library would be used to visualize the neighborhoods cluster distribution of using interactive leaflet map.\n",
    "##### Scikit Learn: For importing k-means clustering.\n",
    "##### JSON: Library to handle JSON files.\n",
    "##### XML: To separate data from presentation and XML stores data in plain text format.\n",
    "##### Geocoder: To retrieve Location Data.\n",
    "##### Beautiful Soup and Requests: To scrap and library to handle http requests \n",
    "#### Google maps will be used in the last step for comfirmation of results\n",
    "#### External like to instagram page will be shared to show the post\n"
   ]
  },
  {
   "cell_type": "markdown",
   "metadata": {},
   "source": [
    "## Approach\n",
    "\n",
    "#### Collect the new york city data from https://cocl.us/new_york_dataset \n",
    "#### Using FourSquare API we will find all venues for each neighborhood.\n",
    "#### Filter out all venues that are Indian Resturants.\n",
    "#### Find rating , tips and like count for each Indian Resturants using FourSquare API.\n",
    "#### Using rating for each resturant , we will sort that data.\n",
    "#### Visualize the Ranking of neighborhoods using folium library(python) "
   ]
  },
  {
   "cell_type": "markdown",
   "metadata": {},
   "source": [
    "## Queries that can be answered using above dataset\n",
    "\n",
    "#### What is best location in New York City for Indian Cuisine ?\n",
    "#### Which areas have potential Indian Resturant Market ?\n",
    "#### Which all areas lack Indian Resturants ?\n",
    "#### Which is the best place to stay if I prefer Indian Cuisine ?"
   ]
  },
  {
   "cell_type": "markdown",
   "metadata": {},
   "source": [
    "## Methodology"
   ]
  },
  {
   "cell_type": "markdown",
   "metadata": {},
   "source": [
    "### Importing the needed libraries"
   ]
  },
  {
   "cell_type": "code",
   "execution_count": 2,
   "metadata": {},
   "outputs": [
    {
     "name": "stdout",
     "output_type": "stream",
     "text": [
      "Collecting package metadata (current_repodata.json): done\n",
      "Solving environment: done\n",
      "\n",
      "## Package Plan ##\n",
      "\n",
      "  environment location: /home/jupyterlab/conda/envs/python\n",
      "\n",
      "  added / updated specs:\n",
      "    - geopy\n",
      "\n",
      "\n",
      "The following packages will be downloaded:\n",
      "\n",
      "    package                    |            build\n",
      "    ---------------------------|-----------------\n",
      "    geographiclib-1.50         |             py_0          34 KB  conda-forge\n",
      "    geopy-1.21.0               |             py_0          58 KB  conda-forge\n",
      "    ------------------------------------------------------------\n",
      "                                           Total:          92 KB\n",
      "\n",
      "The following NEW packages will be INSTALLED:\n",
      "\n",
      "  geographiclib      conda-forge/noarch::geographiclib-1.50-py_0\n",
      "  geopy              conda-forge/noarch::geopy-1.21.0-py_0\n",
      "\n",
      "\n",
      "\n",
      "Downloading and Extracting Packages\n",
      "geopy-1.21.0         | 58 KB     | ##################################### | 100% \n",
      "geographiclib-1.50   | 34 KB     | ##################################### | 100% \n",
      "Preparing transaction: done\n",
      "Verifying transaction: done\n",
      "Executing transaction: done\n",
      "Libraries imported.\n"
     ]
    }
   ],
   "source": [
    "# pandas and numpy for handling data.\n",
    "# request module for using FourSquare API.\n",
    "# geopy to get co-ordinates of City of New York.\n",
    "# folium to visualize the results on a map\n",
    "\n",
    "import pandas as pd\n",
    "import numpy as np\n",
    "pd.set_option('display.max_columns', None)\n",
    "pd.set_option('display.max_rows', None)\n",
    "import requests\n",
    "import sys\n",
    "import os\n",
    "import folium # map rendering library\n",
    "!conda install -c conda-forge geopy --yes\n",
    "from geopy.geocoders import Nominatim \n",
    "import matplotlib.pyplot as plt\n",
    "import matplotlib.cm as cm\n",
    "import matplotlib.colors as colors\n",
    "%matplotlib inline\n",
    "\n",
    "\n",
    "print('Libraries imported.')"
   ]
  },
  {
   "cell_type": "code",
   "execution_count": 4,
   "metadata": {},
   "outputs": [],
   "source": [
    "# Now we define a function to get the geocodes i.e latitude and longitude of a given location using geopy.\n",
    "def geo_location(address):\n",
    "    # get geo location of address\n",
    "    geolocator = Nominatim(user_agent=\"ny_explorer\")\n",
    "    location = geolocator.geocode(address)\n",
    "    latitude = location.latitude\n",
    "    longitude = location.longitude\n",
    "    return latitude,longitude"
   ]
  },
  {
   "cell_type": "markdown",
   "metadata": {},
   "source": [
    "### We define a function to intract with FourSquare API and get top 100 venues within a radius of 1000 metres for a given latitude and longitude. Below function will return us the venue id , venue name and category."
   ]
  },
  {
   "cell_type": "code",
   "execution_count": 5,
   "metadata": {},
   "outputs": [],
   "source": [
    "def get_venues(lat,lng):\n",
    "    \n",
    "    #set variables\n",
    "    radius=1000\n",
    "    LIMIT=100\n",
    "    CLIENT_ID = 'VD0BDSGJZ5LJFSGDQN3O4AYHYHFDEG5HMD1W2Q4RPBLJNAGA' # my Foursquare ID\n",
    "    CLIENT_SECRET = 'ZITGZSLUNXL2VUP4DYPHBH2GLQAWHLVG2ZYRF25D1DKWASEZ' # my Foursquare Secret\n",
    "    VERSION = '20180605' # Foursquare API version\n",
    "    \n",
    "    #url to fetch data from foursquare api\n",
    "    url = 'https://api.foursquare.com/v2/venues/explore?&client_id={}&client_secret={}&v={}&ll={},{}&radius={}&limit={}'.format(\n",
    "            CLIENT_ID, \n",
    "            CLIENT_SECRET, \n",
    "            VERSION, \n",
    "            lat, \n",
    "            lng, \n",
    "            radius, \n",
    "            LIMIT)\n",
    "    \n",
    "    # get all the data\n",
    "    results = requests.get(url).json()\n",
    "    venue_data=results[\"response\"]['groups'][0]['items']\n",
    "    venue_details=[]\n",
    "    for row in venue_data:\n",
    "        try:\n",
    "            venue_id=row['venue']['id']\n",
    "            venue_name=row['venue']['name']\n",
    "            venue_category=row['venue']['categories'][0]['name']\n",
    "            venue_details.append([venue_id,venue_name,venue_category])\n",
    "        except KeyError:\n",
    "            pass\n",
    "        \n",
    "    column_names=['ID','Name','Category']\n",
    "    df = pd.DataFrame(venue_details,columns=column_names)\n",
    "    print(\"done\")\n",
    "    return df"
   ]
  },
  {
   "cell_type": "markdown",
   "metadata": {},
   "source": [
    "### Now we will define a function to get venue details like like count , rating , tip counts for a given venue id. This will be used for ranking."
   ]
  },
  {
   "cell_type": "code",
   "execution_count": 6,
   "metadata": {},
   "outputs": [],
   "source": [
    "def get_venue_details(venue_id):\n",
    "        \n",
    "    CLIENT_ID = 'VD0BDSGJZ5LJFSGDQN3O4AYHYHFDEG5HMD1W2Q4RPBLJNAGA' \n",
    "    CLIENT_SECRET = 'ZITGZSLUNXL2VUP4DYPHBH2GLQAWHLVG2ZYRF25D1DKWASEZ'\n",
    "    VERSION = '20180605' # Foursquare API version\n",
    "    \n",
    "    #url to fetch data from foursquare api\n",
    "    url = 'https://api.foursquare.com/v2/venues/{}?&client_id={}&client_secret={}&v={}'.format(\n",
    "            venue_id,\n",
    "            CLIENT_ID, \n",
    "            CLIENT_SECRET, \n",
    "            VERSION)\n",
    "    \n",
    "    # get all the data\n",
    "    results = requests.get(url).json()\n",
    "    venue_data=results['response']['venue']\n",
    "    venue_details=[]\n",
    "    try:\n",
    "        venue_id=venue_data['id']\n",
    "        venue_name=venue_data['name']\n",
    "        venue_likes=venue_data['likes']['count']\n",
    "        venue_rating=venue_data['rating']\n",
    "        venue_tips=venue_data['tips']['count']\n",
    "        venue_details.append([venue_id,venue_name,venue_likes,venue_rating,venue_tips])\n",
    "    except KeyError:\n",
    "        pass\n",
    "        \n",
    "    column_names=['ID','Name','Likes','Rating','Tips']\n",
    "    df = pd.DataFrame(venue_details,columns=column_names)\n",
    "    return df"
   ]
  },
  {
   "cell_type": "markdown",
   "metadata": {},
   "source": [
    "### Now we define a funtion to get the new york city data such as Boroughs, Neighborhoods along with their latitude and longitude."
   ]
  },
  {
   "cell_type": "code",
   "execution_count": 7,
   "metadata": {},
   "outputs": [],
   "source": [
    "def get_new_york_data():\n",
    "    url='https://cocl.us/new_york_dataset'\n",
    "    resp=requests.get(url).json()\n",
    "    # all data is present in features label\n",
    "    features=resp['features']\n",
    "    \n",
    "    # define the dataframe columns\n",
    "    column_names = ['Borough', 'Neighborhood', 'Latitude', 'Longitude'] \n",
    "    # instantiate the dataframe\n",
    "    new_york_data = pd.DataFrame(columns=column_names)\n",
    "    \n",
    "    for data in features:\n",
    "        borough = data['properties']['borough'] \n",
    "        neighborhood_name = data['properties']['name']\n",
    "        \n",
    "        neighborhood_latlon = data['geometry']['coordinates']\n",
    "        neighborhood_lat = neighborhood_latlon[1]\n",
    "        neighborhood_lon = neighborhood_latlon[0]\n",
    "    \n",
    "        new_york_data = new_york_data.append({'Borough': borough,\n",
    "                                          'Neighborhood': neighborhood_name,\n",
    "                                          'Latitude': neighborhood_lat,\n",
    "                                          'Longitude': neighborhood_lon}, ignore_index=True)\n",
    "    \n",
    "    return new_york_data"
   ]
  },
  {
   "cell_type": "markdown",
   "metadata": {},
   "source": [
    "### We will call the above funtion to get the new york city data"
   ]
  },
  {
   "cell_type": "code",
   "execution_count": 8,
   "metadata": {},
   "outputs": [
    {
     "data": {
      "text/html": [
       "<div>\n",
       "<style scoped>\n",
       "    .dataframe tbody tr th:only-of-type {\n",
       "        vertical-align: middle;\n",
       "    }\n",
       "\n",
       "    .dataframe tbody tr th {\n",
       "        vertical-align: top;\n",
       "    }\n",
       "\n",
       "    .dataframe thead th {\n",
       "        text-align: right;\n",
       "    }\n",
       "</style>\n",
       "<table border=\"1\" class=\"dataframe\">\n",
       "  <thead>\n",
       "    <tr style=\"text-align: right;\">\n",
       "      <th></th>\n",
       "      <th>Borough</th>\n",
       "      <th>Neighborhood</th>\n",
       "      <th>Latitude</th>\n",
       "      <th>Longitude</th>\n",
       "    </tr>\n",
       "  </thead>\n",
       "  <tbody>\n",
       "    <tr>\n",
       "      <th>0</th>\n",
       "      <td>Bronx</td>\n",
       "      <td>Wakefield</td>\n",
       "      <td>40.894705</td>\n",
       "      <td>-73.847201</td>\n",
       "    </tr>\n",
       "    <tr>\n",
       "      <th>1</th>\n",
       "      <td>Bronx</td>\n",
       "      <td>Co-op City</td>\n",
       "      <td>40.874294</td>\n",
       "      <td>-73.829939</td>\n",
       "    </tr>\n",
       "    <tr>\n",
       "      <th>2</th>\n",
       "      <td>Bronx</td>\n",
       "      <td>Eastchester</td>\n",
       "      <td>40.887556</td>\n",
       "      <td>-73.827806</td>\n",
       "    </tr>\n",
       "    <tr>\n",
       "      <th>3</th>\n",
       "      <td>Bronx</td>\n",
       "      <td>Fieldston</td>\n",
       "      <td>40.895437</td>\n",
       "      <td>-73.905643</td>\n",
       "    </tr>\n",
       "    <tr>\n",
       "      <th>4</th>\n",
       "      <td>Bronx</td>\n",
       "      <td>Riverdale</td>\n",
       "      <td>40.890834</td>\n",
       "      <td>-73.912585</td>\n",
       "    </tr>\n",
       "  </tbody>\n",
       "</table>\n",
       "</div>"
      ],
      "text/plain": [
       "  Borough Neighborhood   Latitude  Longitude\n",
       "0   Bronx    Wakefield  40.894705 -73.847201\n",
       "1   Bronx   Co-op City  40.874294 -73.829939\n",
       "2   Bronx  Eastchester  40.887556 -73.827806\n",
       "3   Bronx    Fieldston  40.895437 -73.905643\n",
       "4   Bronx    Riverdale  40.890834 -73.912585"
      ]
     },
     "execution_count": 8,
     "metadata": {},
     "output_type": "execute_result"
    }
   ],
   "source": [
    "# get new york data\n",
    "new_york_data=get_new_york_data()\n",
    "new_york_data.head()"
   ]
  },
  {
   "cell_type": "code",
   "execution_count": 9,
   "metadata": {},
   "outputs": [
    {
     "data": {
      "text/plain": [
       "(306, 4)"
      ]
     },
     "execution_count": 9,
     "metadata": {},
     "output_type": "execute_result"
    }
   ],
   "source": [
    "new_york_data.shape"
   ]
  },
  {
   "cell_type": "markdown",
   "metadata": {},
   "source": [
    "### So there are total of 306 different Neighborhoods in New York"
   ]
  },
  {
   "cell_type": "code",
   "execution_count": 10,
   "metadata": {},
   "outputs": [
    {
     "data": {
      "image/png": "[encoded data removed]",
      "text/plain": [
       "<Figure size 900x500 with 1 Axes>"
      ]
     },
     "metadata": {
      "needs_background": "light"
     },
     "output_type": "display_data"
    }
   ],
   "source": [
    "plt.figure(figsize=(9,5), dpi = 100)\n",
    "# title\n",
    "plt.title('Number of Neighborhood for each Borough in New York City')\n",
    "#On x-axis\n",
    "plt.xlabel('Borough', fontsize = 15)\n",
    "#On y-axis\n",
    "plt.ylabel('No.of Neighborhood', fontsize=15)\n",
    "#giving a bar plot\n",
    "new_york_data.groupby('Borough')['Neighborhood'].count().plot(kind='bar')\n",
    "#legend\n",
    "plt.legend()\n",
    "#displays the plot\n",
    "plt.show()"
   ]
  },
  {
   "cell_type": "markdown",
   "metadata": {},
   "source": [
    "### We see that Queens has highest number of neighborhoods\n",
    "\n",
    "\n",
    "### Now we will collect Indian resturants for each Neighborhood"
   ]
  },
  {
   "cell_type": "code",
   "execution_count": 11,
   "metadata": {},
   "outputs": [
    {
     "name": "stdout",
     "output_type": "stream",
     "text": [
      "done\n",
      "( 1 / 306 ) Indian Resturants in Wakefield, Bronx:0\n",
      "done\n",
      "( 2 / 306 ) Indian Resturants in Co-op City, Bronx:0\n",
      "done\n",
      "( 3 / 306 ) Indian Resturants in Eastchester, Bronx:0\n",
      "done\n",
      "( 4 / 306 ) Indian Resturants in Fieldston, Bronx:0\n",
      "done\n",
      "( 5 / 306 ) Indian Resturants in Riverdale, Bronx:0\n",
      "done\n",
      "( 6 / 306 ) Indian Resturants in Kingsbridge, Bronx:0\n",
      "done\n",
      "( 7 / 306 ) Indian Resturants in Marble Hill, Manhattan:0\n",
      "done\n",
      "( 8 / 306 ) Indian Resturants in Woodlawn, Bronx:1\n",
      "done\n",
      "( 9 / 306 ) Indian Resturants in Norwood, Bronx:0\n",
      "done\n",
      "( 10 / 306 ) Indian Resturants in Williamsbridge, Bronx:0\n",
      "done\n",
      "( 11 / 306 ) Indian Resturants in Baychester, Bronx:0\n",
      "done\n",
      "( 12 / 306 ) Indian Resturants in Pelham Parkway, Bronx:0\n",
      "done\n",
      "( 13 / 306 ) Indian Resturants in City Island, Bronx:0\n",
      "done\n",
      "( 14 / 306 ) Indian Resturants in Bedford Park, Bronx:0\n",
      "done\n",
      "( 15 / 306 ) Indian Resturants in University Heights, Bronx:0\n",
      "done\n",
      "( 16 / 306 ) Indian Resturants in Morris Heights, Bronx:0\n",
      "done\n",
      "( 17 / 306 ) Indian Resturants in Fordham, Bronx:0\n",
      "done\n",
      "( 18 / 306 ) Indian Resturants in East Tremont, Bronx:0\n",
      "done\n",
      "( 19 / 306 ) Indian Resturants in West Farms, Bronx:0\n",
      "done\n",
      "( 20 / 306 ) Indian Resturants in High  Bridge, Bronx:0\n",
      "done\n",
      "( 21 / 306 ) Indian Resturants in Melrose, Bronx:0\n",
      "done\n",
      "( 22 / 306 ) Indian Resturants in Mott Haven, Bronx:0\n",
      "done\n",
      "( 23 / 306 ) Indian Resturants in Port Morris, Bronx:0\n",
      "done\n",
      "( 24 / 306 ) Indian Resturants in Longwood, Bronx:0\n",
      "done\n",
      "( 25 / 306 ) Indian Resturants in Hunts Point, Bronx:0\n",
      "done\n",
      "( 26 / 306 ) Indian Resturants in Morrisania, Bronx:0\n",
      "done\n",
      "( 27 / 306 ) Indian Resturants in Soundview, Bronx:0\n",
      "done\n",
      "( 28 / 306 ) Indian Resturants in Clason Point, Bronx:0\n",
      "done\n",
      "( 29 / 306 ) Indian Resturants in Throgs Neck, Bronx:0\n",
      "done\n",
      "( 30 / 306 ) Indian Resturants in Country Club, Bronx:0\n",
      "done\n",
      "( 31 / 306 ) Indian Resturants in Parkchester, Bronx:1\n",
      "done\n",
      "( 32 / 306 ) Indian Resturants in Westchester Square, Bronx:0\n",
      "done\n",
      "( 33 / 306 ) Indian Resturants in Van Nest, Bronx:0\n",
      "done\n",
      "( 34 / 306 ) Indian Resturants in Morris Park, Bronx:0\n",
      "done\n",
      "( 35 / 306 ) Indian Resturants in Belmont, Bronx:0\n",
      "done\n",
      "( 36 / 306 ) Indian Resturants in Spuyten Duyvil, Bronx:1\n",
      "done\n",
      "( 37 / 306 ) Indian Resturants in North Riverdale, Bronx:0\n",
      "done\n",
      "( 38 / 306 ) Indian Resturants in Pelham Bay, Bronx:0\n",
      "done\n",
      "( 39 / 306 ) Indian Resturants in Schuylerville, Bronx:0\n",
      "done\n",
      "( 40 / 306 ) Indian Resturants in Edgewater Park, Bronx:0\n",
      "done\n",
      "( 41 / 306 ) Indian Resturants in Castle Hill, Bronx:0\n",
      "done\n",
      "( 42 / 306 ) Indian Resturants in Olinville, Bronx:0\n",
      "done\n",
      "( 43 / 306 ) Indian Resturants in Pelham Gardens, Bronx:0\n",
      "done\n",
      "( 44 / 306 ) Indian Resturants in Concourse, Bronx:1\n",
      "done\n",
      "( 45 / 306 ) Indian Resturants in Unionport, Bronx:1\n",
      "done\n",
      "( 46 / 306 ) Indian Resturants in Edenwald, Bronx:0\n",
      "done\n",
      "( 47 / 306 ) Indian Resturants in Bay Ridge, Brooklyn:2\n",
      "done\n",
      "( 48 / 306 ) Indian Resturants in Bensonhurst, Brooklyn:0\n",
      "done\n",
      "( 49 / 306 ) Indian Resturants in Sunset Park, Brooklyn:0\n",
      "done\n",
      "( 50 / 306 ) Indian Resturants in Greenpoint, Brooklyn:0\n",
      "done\n",
      "( 51 / 306 ) Indian Resturants in Gravesend, Brooklyn:0\n",
      "done\n",
      "( 52 / 306 ) Indian Resturants in Brighton Beach, Brooklyn:1\n",
      "done\n",
      "( 53 / 306 ) Indian Resturants in Sheepshead Bay, Brooklyn:0\n",
      "done\n",
      "( 54 / 306 ) Indian Resturants in Manhattan Terrace, Brooklyn:0\n",
      "done\n",
      "( 55 / 306 ) Indian Resturants in Flatbush, Brooklyn:2\n",
      "done\n",
      "( 56 / 306 ) Indian Resturants in Crown Heights, Brooklyn:0\n",
      "done\n",
      "( 57 / 306 ) Indian Resturants in East Flatbush, Brooklyn:1\n",
      "done\n",
      "( 58 / 306 ) Indian Resturants in Kensington, Brooklyn:2\n",
      "done\n",
      "( 59 / 306 ) Indian Resturants in Windsor Terrace, Brooklyn:0\n",
      "done\n",
      "( 60 / 306 ) Indian Resturants in Prospect Heights, Brooklyn:1\n",
      "done\n",
      "( 61 / 306 ) Indian Resturants in Brownsville, Brooklyn:0\n",
      "done\n",
      "( 62 / 306 ) Indian Resturants in Williamsburg, Brooklyn:0\n",
      "done\n",
      "( 63 / 306 ) Indian Resturants in Bushwick, Brooklyn:0\n",
      "done\n",
      "( 64 / 306 ) Indian Resturants in Bedford Stuyvesant, Brooklyn:0\n",
      "done\n",
      "( 65 / 306 ) Indian Resturants in Brooklyn Heights, Brooklyn:0\n",
      "done\n",
      "( 66 / 306 ) Indian Resturants in Cobble Hill, Brooklyn:0\n",
      "done\n",
      "( 67 / 306 ) Indian Resturants in Carroll Gardens, Brooklyn:0\n",
      "done\n",
      "( 68 / 306 ) Indian Resturants in Red Hook, Brooklyn:0\n",
      "done\n",
      "( 69 / 306 ) Indian Resturants in Gowanus, Brooklyn:1\n",
      "done\n",
      "( 70 / 306 ) Indian Resturants in Fort Greene, Brooklyn:1\n",
      "done\n",
      "( 71 / 306 ) Indian Resturants in Park Slope, Brooklyn:0\n",
      "done\n",
      "( 72 / 306 ) Indian Resturants in Cypress Hills, Brooklyn:0\n",
      "done\n",
      "( 73 / 306 ) Indian Resturants in East New York, Brooklyn:0\n",
      "done\n",
      "( 74 / 306 ) Indian Resturants in Starrett City, Brooklyn:0\n",
      "done\n",
      "( 75 / 306 ) Indian Resturants in Canarsie, Brooklyn:0\n",
      "done\n",
      "( 76 / 306 ) Indian Resturants in Flatlands, Brooklyn:0\n",
      "done\n",
      "( 77 / 306 ) Indian Resturants in Mill Island, Brooklyn:0\n",
      "done\n",
      "( 78 / 306 ) Indian Resturants in Manhattan Beach, Brooklyn:0\n",
      "done\n",
      "( 79 / 306 ) Indian Resturants in Coney Island, Brooklyn:0\n",
      "done\n",
      "( 80 / 306 ) Indian Resturants in Bath Beach, Brooklyn:0\n",
      "done\n",
      "( 81 / 306 ) Indian Resturants in Borough Park, Brooklyn:0\n",
      "done\n",
      "( 82 / 306 ) Indian Resturants in Dyker Heights, Brooklyn:0\n",
      "done\n",
      "( 83 / 306 ) Indian Resturants in Gerritsen Beach, Brooklyn:0\n",
      "done\n",
      "( 84 / 306 ) Indian Resturants in Marine Park, Brooklyn:0\n",
      "done\n",
      "( 85 / 306 ) Indian Resturants in Clinton Hill, Brooklyn:1\n",
      "done\n",
      "( 86 / 306 ) Indian Resturants in Sea Gate, Brooklyn:0\n",
      "done\n",
      "( 87 / 306 ) Indian Resturants in Downtown, Brooklyn:1\n",
      "done\n",
      "( 88 / 306 ) Indian Resturants in Boerum Hill, Brooklyn:0\n",
      "done\n",
      "( 89 / 306 ) Indian Resturants in Prospect Lefferts Gardens, Brooklyn:1\n",
      "done\n",
      "( 90 / 306 ) Indian Resturants in Ocean Hill, Brooklyn:2\n",
      "done\n",
      "( 91 / 306 ) Indian Resturants in City Line, Brooklyn:0\n",
      "done\n",
      "( 92 / 306 ) Indian Resturants in Bergen Beach, Brooklyn:0\n",
      "done\n",
      "( 93 / 306 ) Indian Resturants in Midwood, Brooklyn:0\n",
      "done\n",
      "( 94 / 306 ) Indian Resturants in Prospect Park South, Brooklyn:2\n",
      "done\n",
      "( 95 / 306 ) Indian Resturants in Georgetown, Brooklyn:0\n",
      "done\n",
      "( 96 / 306 ) Indian Resturants in East Williamsburg, Brooklyn:0\n",
      "done\n",
      "( 97 / 306 ) Indian Resturants in North Side, Brooklyn:0\n",
      "done\n",
      "( 98 / 306 ) Indian Resturants in South Side, Brooklyn:0\n",
      "done\n",
      "( 99 / 306 ) Indian Resturants in Ocean Parkway, Brooklyn:0\n",
      "done\n",
      "( 100 / 306 ) Indian Resturants in Fort Hamilton, Brooklyn:1\n",
      "done\n",
      "( 101 / 306 ) Indian Resturants in Chinatown, Manhattan:0\n",
      "done\n",
      "( 102 / 306 ) Indian Resturants in Washington Heights, Manhattan:1\n",
      "done\n",
      "( 103 / 306 ) Indian Resturants in Inwood, Manhattan:0\n",
      "done\n",
      "( 104 / 306 ) Indian Resturants in Hamilton Heights, Manhattan:2\n",
      "done\n",
      "( 105 / 306 ) Indian Resturants in Manhattanville, Manhattan:2\n",
      "done\n",
      "( 106 / 306 ) Indian Resturants in Central Harlem, Manhattan:2\n",
      "done\n",
      "( 107 / 306 ) Indian Resturants in East Harlem, Manhattan:1\n",
      "done\n",
      "( 108 / 306 ) Indian Resturants in Upper East Side, Manhattan:0\n",
      "done\n",
      "( 109 / 306 ) Indian Resturants in Yorkville, Manhattan:2\n",
      "done\n",
      "( 110 / 306 ) Indian Resturants in Lenox Hill, Manhattan:0\n",
      "done\n",
      "( 111 / 306 ) Indian Resturants in Roosevelt Island, Manhattan:1\n",
      "done\n",
      "( 112 / 306 ) Indian Resturants in Upper West Side, Manhattan:1\n",
      "done\n",
      "( 113 / 306 ) Indian Resturants in Lincoln Square, Manhattan:0\n",
      "done\n",
      "( 114 / 306 ) Indian Resturants in Clinton, Manhattan:0\n",
      "done\n",
      "( 115 / 306 ) Indian Resturants in Midtown, Manhattan:2\n",
      "done\n",
      "( 116 / 306 ) Indian Resturants in Murray Hill, Manhattan:1\n",
      "done\n",
      "( 117 / 306 ) Indian Resturants in Chelsea, Manhattan:1\n",
      "done\n",
      "( 118 / 306 ) Indian Resturants in Greenwich Village, Manhattan:0\n",
      "done\n",
      "( 119 / 306 ) Indian Resturants in East Village, Manhattan:0\n",
      "done\n",
      "( 120 / 306 ) Indian Resturants in Lower East Side, Manhattan:0\n",
      "done\n",
      "( 121 / 306 ) Indian Resturants in Tribeca, Manhattan:0\n",
      "done\n",
      "( 122 / 306 ) Indian Resturants in Little Italy, Manhattan:0\n",
      "done\n",
      "( 123 / 306 ) Indian Resturants in Soho, Manhattan:0\n",
      "done\n",
      "( 124 / 306 ) Indian Resturants in West Village, Manhattan:1\n",
      "done\n",
      "( 125 / 306 ) Indian Resturants in Manhattan Valley, Manhattan:3\n",
      "done\n",
      "( 126 / 306 ) Indian Resturants in Morningside Heights, Manhattan:1\n",
      "done\n",
      "( 127 / 306 ) Indian Resturants in Gramercy, Manhattan:5\n",
      "done\n",
      "( 128 / 306 ) Indian Resturants in Battery Park City, Manhattan:0\n",
      "done\n",
      "( 129 / 306 ) Indian Resturants in Financial District, Manhattan:0\n",
      "done\n",
      "( 130 / 306 ) Indian Resturants in Astoria, Queens:1\n",
      "done\n",
      "( 131 / 306 ) Indian Resturants in Woodside, Queens:8\n",
      "done\n",
      "( 132 / 306 ) Indian Resturants in Jackson Heights, Queens:5\n",
      "done\n",
      "( 133 / 306 ) Indian Resturants in Elmhurst, Queens:4\n",
      "done\n",
      "( 134 / 306 ) Indian Resturants in Howard Beach, Queens:0\n",
      "done\n",
      "( 135 / 306 ) Indian Resturants in Corona, Queens:0\n",
      "done\n",
      "( 136 / 306 ) Indian Resturants in Forest Hills, Queens:0\n",
      "done\n",
      "( 137 / 306 ) Indian Resturants in Kew Gardens, Queens:2\n",
      "done\n",
      "( 138 / 306 ) Indian Resturants in Richmond Hill, Queens:7\n",
      "done\n",
      "( 139 / 306 ) Indian Resturants in Flushing, Queens:0\n",
      "done\n",
      "( 140 / 306 ) Indian Resturants in Long Island City, Queens:3\n",
      "done\n",
      "( 141 / 306 ) Indian Resturants in Sunnyside, Queens:1\n",
      "done\n",
      "( 142 / 306 ) Indian Resturants in East Elmhurst, Queens:0\n",
      "done\n",
      "( 143 / 306 ) Indian Resturants in Maspeth, Queens:0\n",
      "done\n",
      "( 144 / 306 ) Indian Resturants in Ridgewood, Queens:1\n",
      "done\n",
      "( 145 / 306 ) Indian Resturants in Glendale, Queens:0\n",
      "done\n",
      "( 146 / 306 ) Indian Resturants in Rego Park, Queens:1\n",
      "done\n",
      "( 147 / 306 ) Indian Resturants in Woodhaven, Queens:0\n",
      "done\n",
      "( 148 / 306 ) Indian Resturants in Ozone Park, Queens:0\n",
      "done\n",
      "( 149 / 306 ) Indian Resturants in South Ozone Park, Queens:1\n",
      "done\n",
      "( 150 / 306 ) Indian Resturants in College Point, Queens:0\n",
      "done\n",
      "( 151 / 306 ) Indian Resturants in Whitestone, Queens:0\n",
      "done\n",
      "( 152 / 306 ) Indian Resturants in Bayside, Queens:3\n",
      "done\n",
      "( 153 / 306 ) Indian Resturants in Auburndale, Queens:0\n",
      "done\n",
      "( 154 / 306 ) Indian Resturants in Little Neck, Queens:0\n",
      "done\n",
      "( 155 / 306 ) Indian Resturants in Douglaston, Queens:0\n",
      "done\n",
      "( 156 / 306 ) Indian Resturants in Glen Oaks, Queens:4\n",
      "done\n",
      "( 157 / 306 ) Indian Resturants in Bellerose, Queens:1\n",
      "done\n",
      "( 158 / 306 ) Indian Resturants in Kew Gardens Hills, Queens:0\n",
      "done\n",
      "( 159 / 306 ) Indian Resturants in Fresh Meadows, Queens:0\n",
      "done\n",
      "( 160 / 306 ) Indian Resturants in Briarwood, Queens:3\n",
      "done\n",
      "( 161 / 306 ) Indian Resturants in Jamaica Center, Queens:3\n",
      "done\n",
      "( 162 / 306 ) Indian Resturants in Oakland Gardens, Queens:0\n",
      "done\n",
      "( 163 / 306 ) Indian Resturants in Queens Village, Queens:0\n",
      "done\n",
      "( 164 / 306 ) Indian Resturants in Hollis, Queens:0\n",
      "done\n",
      "( 165 / 306 ) Indian Resturants in South Jamaica, Queens:0\n",
      "done\n",
      "( 166 / 306 ) Indian Resturants in St. Albans, Queens:0\n",
      "done\n",
      "( 167 / 306 ) Indian Resturants in Rochdale, Queens:0\n",
      "done\n",
      "( 168 / 306 ) Indian Resturants in Springfield Gardens, Queens:0\n",
      "done\n",
      "( 169 / 306 ) Indian Resturants in Cambria Heights, Queens:0\n",
      "done\n",
      "( 170 / 306 ) Indian Resturants in Rosedale, Queens:0\n",
      "done\n",
      "( 171 / 306 ) Indian Resturants in Far Rockaway, Queens:0\n",
      "done\n",
      "( 172 / 306 ) Indian Resturants in Broad Channel, Queens:0\n",
      "done\n",
      "( 173 / 306 ) Indian Resturants in Breezy Point, Queens:0\n",
      "done\n",
      "( 174 / 306 ) Indian Resturants in Steinway, Queens:1\n",
      "done\n",
      "( 175 / 306 ) Indian Resturants in Beechhurst, Queens:0\n",
      "done\n",
      "( 176 / 306 ) Indian Resturants in Bay Terrace, Queens:0\n",
      "done\n",
      "( 177 / 306 ) Indian Resturants in Edgemere, Queens:0\n",
      "done\n",
      "( 178 / 306 ) Indian Resturants in Arverne, Queens:0\n",
      "done\n",
      "( 179 / 306 ) Indian Resturants in Rockaway Beach, Queens:0\n",
      "done\n",
      "( 180 / 306 ) Indian Resturants in Neponsit, Queens:0\n",
      "done\n",
      "( 181 / 306 ) Indian Resturants in Murray Hill, Queens:0\n",
      "done\n",
      "( 182 / 306 ) Indian Resturants in Floral Park, Queens:8\n",
      "done\n",
      "( 183 / 306 ) Indian Resturants in Holliswood, Queens:1\n",
      "done\n",
      "( 184 / 306 ) Indian Resturants in Jamaica Estates, Queens:3\n",
      "done\n",
      "( 185 / 306 ) Indian Resturants in Queensboro Hill, Queens:0\n",
      "done\n",
      "( 186 / 306 ) Indian Resturants in Hillcrest, Queens:0\n",
      "done\n",
      "( 187 / 306 ) Indian Resturants in Ravenswood, Queens:1\n",
      "done\n",
      "( 188 / 306 ) Indian Resturants in Lindenwood, Queens:0\n",
      "done\n",
      "( 189 / 306 ) Indian Resturants in Laurelton, Queens:0\n",
      "done\n",
      "( 190 / 306 ) Indian Resturants in Lefrak City, Queens:0\n",
      "done\n",
      "( 191 / 306 ) Indian Resturants in Belle Harbor, Queens:0\n",
      "done\n",
      "( 192 / 306 ) Indian Resturants in Rockaway Park, Queens:0\n",
      "done\n",
      "( 193 / 306 ) Indian Resturants in Somerville, Queens:0\n",
      "done\n",
      "( 194 / 306 ) Indian Resturants in Brookville, Queens:0\n",
      "done\n",
      "( 195 / 306 ) Indian Resturants in Bellaire, Queens:1\n",
      "done\n",
      "( 196 / 306 ) Indian Resturants in North Corona, Queens:0\n",
      "done\n",
      "( 197 / 306 ) Indian Resturants in Forest Hills Gardens, Queens:1\n",
      "done\n",
      "( 198 / 306 ) Indian Resturants in St. George, Staten Island:0\n",
      "done\n",
      "( 199 / 306 ) Indian Resturants in New Brighton, Staten Island:1\n",
      "done\n",
      "( 200 / 306 ) Indian Resturants in Stapleton, Staten Island:0\n",
      "done\n",
      "( 201 / 306 ) Indian Resturants in Rosebank, Staten Island:0\n",
      "done\n",
      "( 202 / 306 ) Indian Resturants in West Brighton, Staten Island:0\n",
      "done\n",
      "( 203 / 306 ) Indian Resturants in Grymes Hill, Staten Island:0\n",
      "done\n",
      "( 204 / 306 ) Indian Resturants in Todt Hill, Staten Island:0\n",
      "done\n",
      "( 205 / 306 ) Indian Resturants in South Beach, Staten Island:0\n",
      "done\n",
      "( 206 / 306 ) Indian Resturants in Port Richmond, Staten Island:0\n",
      "done\n",
      "( 207 / 306 ) Indian Resturants in Mariner's Harbor, Staten Island:0\n",
      "done\n",
      "( 208 / 306 ) Indian Resturants in Port Ivory, Staten Island:0\n",
      "done\n",
      "( 209 / 306 ) Indian Resturants in Castleton Corners, Staten Island:0\n",
      "done\n",
      "( 210 / 306 ) Indian Resturants in New Springville, Staten Island:0\n",
      "done\n",
      "( 211 / 306 ) Indian Resturants in Travis, Staten Island:0\n",
      "done\n",
      "( 212 / 306 ) Indian Resturants in New Dorp, Staten Island:1\n",
      "done\n",
      "( 213 / 306 ) Indian Resturants in Oakwood, Staten Island:0\n",
      "done\n",
      "( 214 / 306 ) Indian Resturants in Great Kills, Staten Island:0\n",
      "done\n",
      "( 215 / 306 ) Indian Resturants in Eltingville, Staten Island:0\n",
      "done\n",
      "( 216 / 306 ) Indian Resturants in Annadale, Staten Island:0\n",
      "done\n",
      "( 217 / 306 ) Indian Resturants in Woodrow, Staten Island:0\n",
      "done\n",
      "( 218 / 306 ) Indian Resturants in Tottenville, Staten Island:0\n",
      "done\n",
      "( 219 / 306 ) Indian Resturants in Tompkinsville, Staten Island:1\n",
      "done\n",
      "( 220 / 306 ) Indian Resturants in Silver Lake, Staten Island:0\n",
      "done\n",
      "( 221 / 306 ) Indian Resturants in Sunnyside, Staten Island:1\n",
      "done\n",
      "( 222 / 306 ) Indian Resturants in Ditmas Park, Brooklyn:3\n",
      "done\n",
      "( 223 / 306 ) Indian Resturants in Wingate, Brooklyn:0\n",
      "done\n",
      "( 224 / 306 ) Indian Resturants in Rugby, Brooklyn:0\n",
      "done\n",
      "( 225 / 306 ) Indian Resturants in Park Hill, Staten Island:0\n",
      "done\n",
      "( 226 / 306 ) Indian Resturants in Westerleigh, Staten Island:0\n",
      "done\n",
      "( 227 / 306 ) Indian Resturants in Graniteville, Staten Island:0\n",
      "done\n",
      "( 228 / 306 ) Indian Resturants in Arlington, Staten Island:0\n",
      "done\n",
      "( 229 / 306 ) Indian Resturants in Arrochar, Staten Island:0\n",
      "done\n",
      "( 230 / 306 ) Indian Resturants in Grasmere, Staten Island:0\n",
      "done\n",
      "( 231 / 306 ) Indian Resturants in Old Town, Staten Island:0\n",
      "done\n",
      "( 232 / 306 ) Indian Resturants in Dongan Hills, Staten Island:0\n",
      "done\n",
      "( 233 / 306 ) Indian Resturants in Midland Beach, Staten Island:0\n",
      "done\n",
      "( 234 / 306 ) Indian Resturants in Grant City, Staten Island:2\n",
      "done\n",
      "( 235 / 306 ) Indian Resturants in New Dorp Beach, Staten Island:0\n",
      "done\n",
      "( 236 / 306 ) Indian Resturants in Bay Terrace, Staten Island:0\n",
      "done\n",
      "( 237 / 306 ) Indian Resturants in Huguenot, Staten Island:0\n",
      "done\n",
      "( 238 / 306 ) Indian Resturants in Pleasant Plains, Staten Island:0\n",
      "done\n",
      "( 239 / 306 ) Indian Resturants in Butler Manor, Staten Island:0\n",
      "done\n",
      "( 240 / 306 ) Indian Resturants in Charleston, Staten Island:0\n",
      "done\n",
      "( 241 / 306 ) Indian Resturants in Rossville, Staten Island:0\n",
      "done\n",
      "( 242 / 306 ) Indian Resturants in Arden Heights, Staten Island:0\n",
      "done\n",
      "( 243 / 306 ) Indian Resturants in Greenridge, Staten Island:0\n",
      "done\n",
      "( 244 / 306 ) Indian Resturants in Heartland Village, Staten Island:0\n",
      "done\n",
      "( 245 / 306 ) Indian Resturants in Chelsea, Staten Island:0\n",
      "done\n",
      "( 246 / 306 ) Indian Resturants in Bloomfield, Staten Island:0\n",
      "done\n",
      "( 247 / 306 ) Indian Resturants in Bulls Head, Staten Island:0\n",
      "done\n",
      "( 248 / 306 ) Indian Resturants in Carnegie Hill, Manhattan:1\n",
      "done\n",
      "( 249 / 306 ) Indian Resturants in Noho, Manhattan:0\n",
      "done\n",
      "( 250 / 306 ) Indian Resturants in Civic Center, Manhattan:0\n",
      "done\n",
      "( 251 / 306 ) Indian Resturants in Midtown South, Manhattan:0\n",
      "done\n",
      "( 252 / 306 ) Indian Resturants in Richmond Town, Staten Island:0\n",
      "done\n",
      "( 253 / 306 ) Indian Resturants in Shore Acres, Staten Island:0\n",
      "done\n",
      "( 254 / 306 ) Indian Resturants in Clifton, Staten Island:0\n",
      "done\n",
      "( 255 / 306 ) Indian Resturants in Concord, Staten Island:1\n",
      "done\n",
      "( 256 / 306 ) Indian Resturants in Emerson Hill, Staten Island:1\n",
      "done\n",
      "( 257 / 306 ) Indian Resturants in Randall Manor, Staten Island:0\n",
      "done\n",
      "( 258 / 306 ) Indian Resturants in Howland Hook, Staten Island:0\n",
      "done\n",
      "( 259 / 306 ) Indian Resturants in Elm Park, Staten Island:0\n",
      "done\n",
      "( 260 / 306 ) Indian Resturants in Remsen Village, Brooklyn:0\n",
      "done\n",
      "( 261 / 306 ) Indian Resturants in New Lots, Brooklyn:0\n",
      "done\n",
      "( 262 / 306 ) Indian Resturants in Paerdegat Basin, Brooklyn:0\n",
      "done\n",
      "( 263 / 306 ) Indian Resturants in Mill Basin, Brooklyn:0\n",
      "done\n",
      "( 264 / 306 ) Indian Resturants in Jamaica Hills, Queens:4\n",
      "done\n",
      "( 265 / 306 ) Indian Resturants in Utopia, Queens:0\n",
      "done\n",
      "( 266 / 306 ) Indian Resturants in Pomonok, Queens:0\n",
      "done\n",
      "( 267 / 306 ) Indian Resturants in Astoria Heights, Queens:1\n",
      "done\n",
      "( 268 / 306 ) Indian Resturants in Claremont Village, Bronx:0\n",
      "done\n",
      "( 269 / 306 ) Indian Resturants in Concourse Village, Bronx:1\n",
      "done\n",
      "( 270 / 306 ) Indian Resturants in Mount Eden, Bronx:0\n",
      "done\n",
      "( 271 / 306 ) Indian Resturants in Mount Hope, Bronx:0\n",
      "done\n",
      "( 272 / 306 ) Indian Resturants in Sutton Place, Manhattan:1\n",
      "done\n",
      "( 273 / 306 ) Indian Resturants in Hunters Point, Queens:0\n",
      "done\n",
      "( 274 / 306 ) Indian Resturants in Turtle Bay, Manhattan:2\n",
      "done\n",
      "( 275 / 306 ) Indian Resturants in Tudor City, Manhattan:1\n",
      "done\n",
      "( 276 / 306 ) Indian Resturants in Stuyvesant Town, Manhattan:0\n",
      "done\n",
      "( 277 / 306 ) Indian Resturants in Flatiron, Manhattan:0\n",
      "done\n",
      "( 278 / 306 ) Indian Resturants in Sunnyside Gardens, Queens:1\n",
      "done\n",
      "( 279 / 306 ) Indian Resturants in Blissville, Queens:1\n",
      "done\n",
      "( 280 / 306 ) Indian Resturants in Fulton Ferry, Brooklyn:0\n",
      "done\n",
      "( 281 / 306 ) Indian Resturants in Vinegar Hill, Brooklyn:0\n",
      "done\n",
      "( 282 / 306 ) Indian Resturants in Weeksville, Brooklyn:0\n",
      "done\n",
      "( 283 / 306 ) Indian Resturants in Broadway Junction, Brooklyn:1\n",
      "done\n",
      "( 284 / 306 ) Indian Resturants in Dumbo, Brooklyn:0\n",
      "done\n",
      "( 285 / 306 ) Indian Resturants in Manor Heights, Staten Island:0\n",
      "done\n",
      "( 286 / 306 ) Indian Resturants in Willowbrook, Staten Island:0\n",
      "done\n",
      "( 287 / 306 ) Indian Resturants in Sandy Ground, Staten Island:0\n",
      "done\n",
      "( 288 / 306 ) Indian Resturants in Egbertville, Staten Island:0\n",
      "done\n",
      "( 289 / 306 ) Indian Resturants in Roxbury, Queens:0\n",
      "done\n",
      "( 290 / 306 ) Indian Resturants in Homecrest, Brooklyn:0\n",
      "done\n",
      "( 291 / 306 ) Indian Resturants in Middle Village, Queens:0\n",
      "done\n",
      "( 292 / 306 ) Indian Resturants in Prince's Bay, Staten Island:0\n",
      "done\n",
      "( 293 / 306 ) Indian Resturants in Lighthouse Hill, Staten Island:0\n",
      "done\n",
      "( 294 / 306 ) Indian Resturants in Richmond Valley, Staten Island:0\n",
      "done\n",
      "( 295 / 306 ) Indian Resturants in Malba, Queens:0\n",
      "done\n",
      "( 296 / 306 ) Indian Resturants in Highland Park, Brooklyn:0\n",
      "done\n",
      "( 297 / 306 ) Indian Resturants in Madison, Brooklyn:0\n",
      "done\n",
      "( 298 / 306 ) Indian Resturants in Bronxdale, Bronx:0\n",
      "done\n",
      "( 299 / 306 ) Indian Resturants in Allerton, Bronx:0\n",
      "done\n",
      "( 300 / 306 ) Indian Resturants in Kingsbridge Heights, Bronx:0\n",
      "done\n",
      "( 301 / 306 ) Indian Resturants in Erasmus, Brooklyn:1\n",
      "done\n",
      "( 302 / 306 ) Indian Resturants in Hudson Yards, Manhattan:0\n",
      "done\n",
      "( 303 / 306 ) Indian Resturants in Hammels, Queens:0\n",
      "done\n",
      "( 304 / 306 ) Indian Resturants in Bayswater, Queens:0\n",
      "done\n",
      "( 305 / 306 ) Indian Resturants in Queensbridge, Queens:2\n",
      "done\n",
      "( 306 / 306 ) Indian Resturants in Fox Hills, Staten Island:0\n"
     ]
    }
   ],
   "source": [
    "# prepare neighborhood list that contains indian resturants\n",
    "column_names=['Borough', 'Neighborhood', 'ID','Name']\n",
    "indian_rest_ny=pd.DataFrame(columns=column_names)\n",
    "count=1\n",
    "for row in new_york_data.values.tolist():\n",
    "    Borough, Neighborhood, Latitude, Longitude=row\n",
    "    venues = get_venues(Latitude,Longitude)\n",
    "    indian_resturants=venues[venues['Category']=='Indian Restaurant']   \n",
    "    print('(',count,'/',len(new_york_data),')','Indian Resturants in '+Neighborhood+', '+Borough+':'+str(len(indian_resturants)))\n",
    "    for resturant_detail in indian_resturants.values.tolist():\n",
    "        id, name , category=resturant_detail\n",
    "        indian_rest_ny = indian_rest_ny.append({'Borough': Borough,\n",
    "                                                'Neighborhood': Neighborhood, \n",
    "                                                'ID': id,\n",
    "                                                'Name' : name\n",
    "                                               }, ignore_index=True)\n",
    "    count+=1"
   ]
  },
  {
   "cell_type": "code",
   "execution_count": 12,
   "metadata": {},
   "outputs": [
    {
     "data": {
      "text/html": [
       "<div>\n",
       "<style scoped>\n",
       "    .dataframe tbody tr th:only-of-type {\n",
       "        vertical-align: middle;\n",
       "    }\n",
       "\n",
       "    .dataframe tbody tr th {\n",
       "        vertical-align: top;\n",
       "    }\n",
       "\n",
       "    .dataframe thead th {\n",
       "        text-align: right;\n",
       "    }\n",
       "</style>\n",
       "<table border=\"1\" class=\"dataframe\">\n",
       "  <thead>\n",
       "    <tr style=\"text-align: right;\">\n",
       "      <th></th>\n",
       "      <th>Borough</th>\n",
       "      <th>Neighborhood</th>\n",
       "      <th>ID</th>\n",
       "      <th>Name</th>\n",
       "    </tr>\n",
       "  </thead>\n",
       "  <tbody>\n",
       "    <tr>\n",
       "      <th>0</th>\n",
       "      <td>Bronx</td>\n",
       "      <td>Woodlawn</td>\n",
       "      <td>4c0448d9310fc9b6bf1dc761</td>\n",
       "      <td>Curry Spot</td>\n",
       "    </tr>\n",
       "    <tr>\n",
       "      <th>1</th>\n",
       "      <td>Bronx</td>\n",
       "      <td>Parkchester</td>\n",
       "      <td>4c194631838020a13e78e561</td>\n",
       "      <td>Melanies Roti Bar And Grill</td>\n",
       "    </tr>\n",
       "    <tr>\n",
       "      <th>2</th>\n",
       "      <td>Bronx</td>\n",
       "      <td>Spuyten Duyvil</td>\n",
       "      <td>4c04544df423a593ac83d116</td>\n",
       "      <td>Cumin Indian Cuisine</td>\n",
       "    </tr>\n",
       "    <tr>\n",
       "      <th>3</th>\n",
       "      <td>Bronx</td>\n",
       "      <td>Concourse</td>\n",
       "      <td>551b7f75498e86c00a0ed2e1</td>\n",
       "      <td>Hungry Bird</td>\n",
       "    </tr>\n",
       "    <tr>\n",
       "      <th>4</th>\n",
       "      <td>Bronx</td>\n",
       "      <td>Unionport</td>\n",
       "      <td>4c194631838020a13e78e561</td>\n",
       "      <td>Melanies Roti Bar And Grill</td>\n",
       "    </tr>\n",
       "  </tbody>\n",
       "</table>\n",
       "</div>"
      ],
      "text/plain": [
       "  Borough    Neighborhood                        ID  \\\n",
       "0   Bronx        Woodlawn  4c0448d9310fc9b6bf1dc761   \n",
       "1   Bronx     Parkchester  4c194631838020a13e78e561   \n",
       "2   Bronx  Spuyten Duyvil  4c04544df423a593ac83d116   \n",
       "3   Bronx       Concourse  551b7f75498e86c00a0ed2e1   \n",
       "4   Bronx       Unionport  4c194631838020a13e78e561   \n",
       "\n",
       "                          Name  \n",
       "0                   Curry Spot  \n",
       "1  Melanies Roti Bar And Grill  \n",
       "2         Cumin Indian Cuisine  \n",
       "3                  Hungry Bird  \n",
       "4  Melanies Roti Bar And Grill  "
      ]
     },
     "execution_count": 12,
     "metadata": {},
     "output_type": "execute_result"
    }
   ],
   "source": [
    "indian_rest_ny.head()"
   ]
  },
  {
   "cell_type": "code",
   "execution_count": 13,
   "metadata": {},
   "outputs": [
    {
     "data": {
      "text/plain": [
       "(142, 4)"
      ]
     },
     "execution_count": 13,
     "metadata": {},
     "output_type": "execute_result"
    }
   ],
   "source": [
    "indian_rest_ny.shape"
   ]
  },
  {
   "cell_type": "markdown",
   "metadata": {},
   "source": [
    "### We got  Indian Resturants across New York City"
   ]
  },
  {
   "cell_type": "code",
   "execution_count": 14,
   "metadata": {},
   "outputs": [
    {
     "data": {
      "image/png": "[encoded data removed]",
      "text/plain": [
       "<Figure size 900x500 with 1 Axes>"
      ]
     },
     "metadata": {
      "needs_background": "light"
     },
     "output_type": "display_data"
    }
   ],
   "source": [
    "plt.figure(figsize=(9,5), dpi = 100)\n",
    "# title\n",
    "plt.title('Number of Indian Resturants for each Borough in New York City')\n",
    "#On x-axis\n",
    "plt.xlabel('Borough', fontsize = 15)\n",
    "#On y-axis\n",
    "plt.ylabel('No.of Indian Resturants', fontsize=15)\n",
    "#giving a bar plot\n",
    "indian_rest_ny.groupby('Borough')['ID'].count().plot(kind='bar')\n",
    "#legend\n",
    "plt.legend()\n",
    "#displays the plot\n",
    "plt.show()"
   ]
  },
  {
   "cell_type": "markdown",
   "metadata": {},
   "source": [
    "### We see that Queens has the largest number of indian resturants"
   ]
  },
  {
   "cell_type": "code",
   "execution_count": 15,
   "metadata": {},
   "outputs": [
    {
     "data": {
      "image/png": "[encoded data removed]",
      "text/plain": [
       "<Figure size 900x500 with 1 Axes>"
      ]
     },
     "metadata": {
      "needs_background": "light"
     },
     "output_type": "display_data"
    }
   ],
   "source": [
    "plt.figure(figsize=(9,5), dpi = 100)\n",
    "# title\n",
    "plt.title('Number of Indian Resturants for each Neighborhood in New York City')\n",
    "#On x-axis\n",
    "plt.xlabel('Neighborhood', fontsize = 15)\n",
    "#On y-axis\n",
    "plt.ylabel('No.of Indian Resturants', fontsize=15)\n",
    "#giving a bar plot\n",
    "indian_rest_ny.groupby('Neighborhood')['ID'].count().nlargest(5).plot(kind='bar')\n",
    "#legend\n",
    "plt.legend()\n",
    "#displays the plot\n",
    "plt.show()"
   ]
  },
  {
   "cell_type": "code",
   "execution_count": 16,
   "metadata": {},
   "outputs": [
    {
     "data": {
      "text/html": [
       "<div>\n",
       "<style scoped>\n",
       "    .dataframe tbody tr th:only-of-type {\n",
       "        vertical-align: middle;\n",
       "    }\n",
       "\n",
       "    .dataframe tbody tr th {\n",
       "        vertical-align: top;\n",
       "    }\n",
       "\n",
       "    .dataframe thead th {\n",
       "        text-align: right;\n",
       "    }\n",
       "</style>\n",
       "<table border=\"1\" class=\"dataframe\">\n",
       "  <thead>\n",
       "    <tr style=\"text-align: right;\">\n",
       "      <th></th>\n",
       "      <th>Borough</th>\n",
       "      <th>Neighborhood</th>\n",
       "      <th>ID</th>\n",
       "      <th>Name</th>\n",
       "    </tr>\n",
       "  </thead>\n",
       "  <tbody>\n",
       "    <tr>\n",
       "      <th>99</th>\n",
       "      <td>Queens</td>\n",
       "      <td>Floral Park</td>\n",
       "      <td>527ffc0811d2d329d5e49abd</td>\n",
       "      <td>Jackson Diner</td>\n",
       "    </tr>\n",
       "    <tr>\n",
       "      <th>100</th>\n",
       "      <td>Queens</td>\n",
       "      <td>Floral Park</td>\n",
       "      <td>4e4e3e22bd4101d0d7a5c2d1</td>\n",
       "      <td>Kerala Kitchen</td>\n",
       "    </tr>\n",
       "    <tr>\n",
       "      <th>101</th>\n",
       "      <td>Queens</td>\n",
       "      <td>Floral Park</td>\n",
       "      <td>4b647b56f964a520c4b62ae3</td>\n",
       "      <td>Usha Foods &amp; Usha Sweets</td>\n",
       "    </tr>\n",
       "    <tr>\n",
       "      <th>102</th>\n",
       "      <td>Queens</td>\n",
       "      <td>Floral Park</td>\n",
       "      <td>4b787c49f964a5209cd12ee3</td>\n",
       "      <td>Santoor Indian Restaurant</td>\n",
       "    </tr>\n",
       "    <tr>\n",
       "      <th>103</th>\n",
       "      <td>Queens</td>\n",
       "      <td>Floral Park</td>\n",
       "      <td>4c0c01e0bbc676b00d6b4cd5</td>\n",
       "      <td>Mumbai Xpress</td>\n",
       "    </tr>\n",
       "    <tr>\n",
       "      <th>104</th>\n",
       "      <td>Queens</td>\n",
       "      <td>Floral Park</td>\n",
       "      <td>4c76ff35a5676dcb72671721</td>\n",
       "      <td>Flavor Of India</td>\n",
       "    </tr>\n",
       "    <tr>\n",
       "      <th>105</th>\n",
       "      <td>Queens</td>\n",
       "      <td>Floral Park</td>\n",
       "      <td>4df0f39dd4c04d0392c853ea</td>\n",
       "      <td>Sagar Chinese</td>\n",
       "    </tr>\n",
       "    <tr>\n",
       "      <th>106</th>\n",
       "      <td>Queens</td>\n",
       "      <td>Floral Park</td>\n",
       "      <td>4e6bfe1c7d8b2c711b17bbe5</td>\n",
       "      <td>Surya sweets and snacks</td>\n",
       "    </tr>\n",
       "  </tbody>\n",
       "</table>\n",
       "</div>"
      ],
      "text/plain": [
       "    Borough Neighborhood                        ID                       Name\n",
       "99   Queens  Floral Park  527ffc0811d2d329d5e49abd              Jackson Diner\n",
       "100  Queens  Floral Park  4e4e3e22bd4101d0d7a5c2d1             Kerala Kitchen\n",
       "101  Queens  Floral Park  4b647b56f964a520c4b62ae3   Usha Foods & Usha Sweets\n",
       "102  Queens  Floral Park  4b787c49f964a5209cd12ee3  Santoor Indian Restaurant\n",
       "103  Queens  Floral Park  4c0c01e0bbc676b00d6b4cd5              Mumbai Xpress\n",
       "104  Queens  Floral Park  4c76ff35a5676dcb72671721            Flavor Of India\n",
       "105  Queens  Floral Park  4df0f39dd4c04d0392c853ea              Sagar Chinese\n",
       "106  Queens  Floral Park  4e6bfe1c7d8b2c711b17bbe5    Surya sweets and snacks"
      ]
     },
     "execution_count": 16,
     "metadata": {},
     "output_type": "execute_result"
    }
   ],
   "source": [
    "indian_rest_ny[indian_rest_ny['Neighborhood']=='Floral Park']"
   ]
  },
  {
   "cell_type": "markdown",
   "metadata": {},
   "source": [
    "### So Floral Park in Queens has the highest number of Indian Resturants with a total count of 9.\n",
    "\n",
    "\n",
    "### Now we will get the ranking of each resturant for further analysis."
   ]
  },
  {
   "cell_type": "code",
   "execution_count": 17,
   "metadata": {},
   "outputs": [
    {
     "name": "stdout",
     "output_type": "stream",
     "text": [
      "                         ID        Name  Likes  Rating  Tips\n",
      "0  4c0448d9310fc9b6bf1dc761  Curry Spot      5     7.8    10\n",
      "( 1 / 142 ) processed\n",
      "                         ID                         Name  Likes  Rating  Tips\n",
      "0  4c194631838020a13e78e561  Melanies Roti Bar And Grill      3     6.0     2\n",
      "( 2 / 142 ) processed\n",
      "                         ID                  Name  Likes  Rating  Tips\n",
      "0  4c04544df423a593ac83d116  Cumin Indian Cuisine     13     6.0     9\n",
      "( 3 / 142 ) processed\n",
      "                         ID         Name  Likes  Rating  Tips\n",
      "0  551b7f75498e86c00a0ed2e1  Hungry Bird      8     6.8     3\n",
      "( 4 / 142 ) processed\n",
      "                         ID                         Name  Likes  Rating  Tips\n",
      "0  4c194631838020a13e78e561  Melanies Roti Bar And Grill      3     6.0     2\n",
      "( 5 / 142 ) processed\n",
      "                         ID       Name  Likes  Rating  Tips\n",
      "0  4b5a4dc8f964a520a2bb28e3  Taj Mahal     38     8.0    26\n",
      "( 6 / 142 ) processed\n",
      "                         ID          Name  Likes  Rating  Tips\n",
      "0  545835a1498e820edc6f636f  Bombay Grill     14     7.1     4\n",
      "( 7 / 142 ) processed\n",
      "                         ID          Name  Likes  Rating  Tips\n",
      "0  4af0d31bf964a5207ddf21e3  Pak Nasheman      9     7.5     4\n",
      "( 8 / 142 ) processed\n",
      "                         ID          Name  Likes  Rating  Tips\n",
      "0  52213c4211d295d4c57a607c  Ashoka Grill      8     7.1    14\n",
      "( 9 / 142 ) processed\n",
      "                         ID                Name  Likes  Rating  Tips\n",
      "0  564d283d498e6e851df79d87  Great Indian Curry      3     6.9     2\n",
      "( 10 / 142 ) processed\n",
      "                         ID          Name  Likes  Rating  Tips\n",
      "0  512a9ea9e4b004fb8eeb84e5  Silver Krust     13     8.3     3\n",
      "( 11 / 142 ) processed\n",
      "                         ID       Name  Likes  Rating  Tips\n",
      "0  4db0f4371e729fcc56497f20  Mashallah     20     7.8     7\n",
      "( 12 / 142 ) processed\n",
      "                         ID                          Name  Likes  Rating  Tips\n",
      "0  4b718914f964a520c04b2de3  Madina Restaurant and Sweets     17     6.7    12\n",
      "( 13 / 142 ) processed\n",
      "                         ID         Name  Likes  Rating  Tips\n",
      "0  592e1dae345cbe0fc77cf6c9  Diwan Grill     16     8.7     5\n",
      "( 14 / 142 ) processed\n",
      "                         ID                       Name  Likes  Rating  Tips\n",
      "0  52f18573498ec2c34e830ffd  Kanan's Indian Restaurant     24     7.9     8\n",
      "( 15 / 142 ) processed\n",
      "                         ID         Name  Likes  Rating  Tips\n",
      "0  57596dad498e732300496b23  Dosa Royale     75     8.8    22\n",
      "( 16 / 142 ) processed\n",
      "                         ID         Name  Likes  Rating  Tips\n",
      "0  57596dad498e732300496b23  Dosa Royale     75     8.8    22\n",
      "( 17 / 142 ) processed\n",
      "                         ID          Name  Likes  Rating  Tips\n",
      "0  543870ec498ec64de510608d  Masala Grill     39     8.0    14\n",
      "( 18 / 142 ) processed\n",
      "                         ID                        Name  Likes  Rating  Tips\n",
      "0  4bb93b70cf2fc9b6fe64a002  Gandhi Fine Indian Cuisine     82     8.7    47\n",
      "( 19 / 142 ) processed\n",
      "                         ID             Name  Likes  Rating  Tips\n",
      "0  5539753f498edbace4746b67  Tandoori Masala     12     7.9     2\n",
      "( 20 / 142 ) processed\n",
      "                         ID           Name  Likes  Rating  Tips\n",
      "0  4f6cae2ee4b0d4a5afcef5c0  Delhi Heights     22     8.1     8\n",
      "( 21 / 142 ) processed\n",
      "                         ID                     Name  Likes  Rating  Tips\n",
      "0  519ff6c8498e1300ddcbd45c  Anarkali Indian Cuisine     14     7.7     8\n",
      "( 22 / 142 ) processed\n",
      "                         ID       Name  Likes  Rating  Tips\n",
      "0  4db0f4371e729fcc56497f20  Mashallah     20     7.8     7\n",
      "( 23 / 142 ) processed\n",
      "                         ID          Name  Likes  Rating  Tips\n",
      "0  545835a1498e820edc6f636f  Bombay Grill     14     7.1     4\n",
      "( 24 / 142 ) processed\n",
      "                         ID                      Name  Likes  Rating  Tips\n",
      "0  4ae7876ef964a5201eac21e3  Kismat Indian Restaurant     45     8.0    25\n",
      "( 25 / 142 ) processed\n",
      "                         ID                           Name  Likes  Rating  \\\n",
      "0  54c2bd96498eaf5142e3fe92  Clove Indian Restaurant & Bar     32     7.8   \n",
      "\n",
      "   Tips  \n",
      "0    17  \n",
      "( 26 / 142 ) processed\n",
      "                         ID           Name  Likes  Rating  Tips\n",
      "0  5914ff32b23dfa207eca38de  Mumbai Masala     14     7.2     7\n",
      "( 27 / 142 ) processed\n",
      "                         ID                 Name  Likes  Rating  Tips\n",
      "0  529d382a11d2dd5ef107e641  Chapati House - NYC     73     7.7    18\n",
      "( 28 / 142 ) processed\n",
      "                         ID                           Name  Likes  Rating  \\\n",
      "0  54c2bd96498eaf5142e3fe92  Clove Indian Restaurant & Bar     32     7.8   \n",
      "\n",
      "   Tips  \n",
      "0    17  \n",
      "( 29 / 142 ) processed\n",
      "                         ID          Name  Likes  Rating  Tips\n",
      "0  56d87f3d498ee215abee5724  Delhi Masala     13     8.2     3\n",
      "( 30 / 142 ) processed\n",
      "                         ID                           Name  Likes  Rating  \\\n",
      "0  54c2bd96498eaf5142e3fe92  Clove Indian Restaurant & Bar     32     7.8   \n",
      "\n",
      "   Tips  \n",
      "0    17  \n",
      "( 31 / 142 ) processed\n",
      "                         ID      Name  Likes  Rating  Tips\n",
      "0  519fe6f5498e30595d370c44  Bawarchi      9     7.6     4\n",
      "( 32 / 142 ) processed\n",
      "                         ID            Name  Likes  Rating  Tips\n",
      "0  5272ca4511d22488f6895caf  Drunken Munkey    208     8.4    61\n",
      "( 33 / 142 ) processed\n",
      "                         ID                    Name  Likes  Rating  Tips\n",
      "0  56ed855a498ef3bb022352c3  Mughlai Indian Cuisine     27     8.0     9\n",
      "( 34 / 142 ) processed\n",
      "                         ID              Name  Likes  Rating  Tips\n",
      "0  4fe4fb50c2eee335e4fea69d  Moti Mahal Delux    186     8.5    83\n",
      "( 35 / 142 ) processed\n",
      "                         ID    Name  Likes  Rating  Tips\n",
      "0  42489a80f964a5208b201fe3  Swagat    106     8.5    39\n",
      "( 36 / 142 ) processed\n",
      "                         ID       Name  Likes  Rating  Tips\n",
      "0  5953e40462420b044e8989f4  indikitch     62     7.9     3\n",
      "( 37 / 142 ) processed\n",
      "                         ID        Name  Likes  Rating  Tips\n",
      "0  4acf6ed7f964a520a0d320e3  Cafe Spice     14     7.9    15\n",
      "( 38 / 142 ) processed\n",
      "                         ID                   Name  Likes  Rating  Tips\n",
      "0  59fcd48c464d6567ed2f5e37  The Kati Roll Company     20     8.6     4\n",
      "( 39 / 142 ) processed\n",
      "                         ID               Name  Likes  Rating  Tips\n",
      "0  4b4aab62f964a520978c26e3  Dil-e Punjab Deli    108     8.8    44\n",
      "( 40 / 142 ) processed\n",
      "                         ID  Name  Likes  Rating  Tips\n",
      "0  591794df2be42556988e4a8e  Rahi    115     8.7    24\n",
      "( 41 / 142 ) processed\n",
      "                         ID              Name  Likes  Rating  Tips\n",
      "0  424de080f964a520ae201fe3  Manhattan Valley     42     8.1    30\n",
      "( 42 / 142 ) processed\n",
      "                         ID   Name  Likes  Rating  Tips\n",
      "0  538ba1f2498e279098e4210a  Awadh     51     8.1    13\n",
      "( 43 / 142 ) processed\n",
      "                         ID       Name  Likes  Rating  Tips\n",
      "0  49c5ad0af964a5201b571fe3  Roti Roll    114     7.6    58\n",
      "( 44 / 142 ) processed\n",
      "                         ID       Name  Likes  Rating  Tips\n",
      "0  49c5ad0af964a5201b571fe3  Roti Roll    114     7.6    58\n",
      "( 45 / 142 ) processed\n",
      "                         ID                 Name  Likes  Rating  Tips\n",
      "0  4a70a75bf964a52016d81fe3  Bhatti Indian Grill    424     8.7   161\n",
      "( 46 / 142 ) processed\n",
      "                         ID   Name  Likes  Rating  Tips\n",
      "0  57f7cbbe498edf8f07c7ba83  Sahib     60     8.6    13\n",
      "( 47 / 142 ) processed\n",
      "                         ID   Name  Likes  Rating  Tips\n",
      "0  4a12eb1ff964a52099771fe3  Dhaba    497     8.3   164\n",
      "( 48 / 142 ) processed\n",
      "                         ID         Name  Likes  Rating  Tips\n",
      "0  4fcf82f54fc6ada5874da997  Chote Nawab    215     8.3    70\n",
      "( 49 / 142 ) processed\n",
      "                         ID   Name  Likes  Rating  Tips\n",
      "0  43d537d0f964a520402e1fe3  Vatan    132     8.1    46\n",
      "( 50 / 142 ) processed\n"
     ]
    },
    {
     "ename": "KeyError",
     "evalue": "'venue'",
     "output_type": "error",
     "traceback": [
      "\u001b[0;31m---------------------------------------------------------------------------\u001b[0m",
      "\u001b[0;31mKeyError\u001b[0m                                  Traceback (most recent call last)",
      "\u001b[0;32m<ipython-input-17-10411ff430c3>\u001b[0m in \u001b[0;36m<module>\u001b[0;34m\u001b[0m\n\u001b[1;32m      8\u001b[0m     \u001b[0mBorough\u001b[0m\u001b[0;34m,\u001b[0m\u001b[0mNeighborhood\u001b[0m\u001b[0;34m,\u001b[0m\u001b[0mID\u001b[0m\u001b[0;34m,\u001b[0m\u001b[0mName\u001b[0m\u001b[0;34m=\u001b[0m\u001b[0mrow\u001b[0m\u001b[0;34m\u001b[0m\u001b[0;34m\u001b[0m\u001b[0m\n\u001b[1;32m      9\u001b[0m     \u001b[0;32mtry\u001b[0m\u001b[0;34m:\u001b[0m\u001b[0;34m\u001b[0m\u001b[0;34m\u001b[0m\u001b[0m\n\u001b[0;32m---> 10\u001b[0;31m         \u001b[0mvenue_details\u001b[0m\u001b[0;34m=\u001b[0m\u001b[0mget_venue_details\u001b[0m\u001b[0;34m(\u001b[0m\u001b[0mID\u001b[0m\u001b[0;34m)\u001b[0m\u001b[0;34m\u001b[0m\u001b[0;34m\u001b[0m\u001b[0m\n\u001b[0m\u001b[1;32m     11\u001b[0m         \u001b[0mprint\u001b[0m\u001b[0;34m(\u001b[0m\u001b[0mvenue_details\u001b[0m\u001b[0;34m)\u001b[0m\u001b[0;34m\u001b[0m\u001b[0;34m\u001b[0m\u001b[0m\n\u001b[1;32m     12\u001b[0m         \u001b[0mid\u001b[0m\u001b[0;34m,\u001b[0m\u001b[0mname\u001b[0m\u001b[0;34m,\u001b[0m\u001b[0mlikes\u001b[0m\u001b[0;34m,\u001b[0m\u001b[0mrating\u001b[0m\u001b[0;34m,\u001b[0m\u001b[0mtips\u001b[0m\u001b[0;34m=\u001b[0m\u001b[0mvenue_details\u001b[0m\u001b[0;34m.\u001b[0m\u001b[0mvalues\u001b[0m\u001b[0;34m.\u001b[0m\u001b[0mtolist\u001b[0m\u001b[0;34m(\u001b[0m\u001b[0;34m)\u001b[0m\u001b[0;34m[\u001b[0m\u001b[0;36m0\u001b[0m\u001b[0;34m]\u001b[0m\u001b[0;34m\u001b[0m\u001b[0;34m\u001b[0m\u001b[0m\n",
      "\u001b[0;32m<ipython-input-6-1a683b2c917e>\u001b[0m in \u001b[0;36mget_venue_details\u001b[0;34m(venue_id)\u001b[0m\n\u001b[1;32m     14\u001b[0m     \u001b[0;31m# get all the data\u001b[0m\u001b[0;34m\u001b[0m\u001b[0;34m\u001b[0m\u001b[0;34m\u001b[0m\u001b[0m\n\u001b[1;32m     15\u001b[0m     \u001b[0mresults\u001b[0m \u001b[0;34m=\u001b[0m \u001b[0mrequests\u001b[0m\u001b[0;34m.\u001b[0m\u001b[0mget\u001b[0m\u001b[0;34m(\u001b[0m\u001b[0murl\u001b[0m\u001b[0;34m)\u001b[0m\u001b[0;34m.\u001b[0m\u001b[0mjson\u001b[0m\u001b[0;34m(\u001b[0m\u001b[0;34m)\u001b[0m\u001b[0;34m\u001b[0m\u001b[0;34m\u001b[0m\u001b[0m\n\u001b[0;32m---> 16\u001b[0;31m     \u001b[0mvenue_data\u001b[0m\u001b[0;34m=\u001b[0m\u001b[0mresults\u001b[0m\u001b[0;34m[\u001b[0m\u001b[0;34m'response'\u001b[0m\u001b[0;34m]\u001b[0m\u001b[0;34m[\u001b[0m\u001b[0;34m'venue'\u001b[0m\u001b[0;34m]\u001b[0m\u001b[0;34m\u001b[0m\u001b[0;34m\u001b[0m\u001b[0m\n\u001b[0m\u001b[1;32m     17\u001b[0m     \u001b[0mvenue_details\u001b[0m\u001b[0;34m=\u001b[0m\u001b[0;34m[\u001b[0m\u001b[0;34m]\u001b[0m\u001b[0;34m\u001b[0m\u001b[0;34m\u001b[0m\u001b[0m\n\u001b[1;32m     18\u001b[0m     \u001b[0;32mtry\u001b[0m\u001b[0;34m:\u001b[0m\u001b[0;34m\u001b[0m\u001b[0;34m\u001b[0m\u001b[0m\n",
      "\u001b[0;31mKeyError\u001b[0m: 'venue'"
     ]
    }
   ],
   "source": [
    "# prepare neighborhood list that contains indian resturants\n",
    "column_names=['Borough', 'Neighborhood', 'ID','Name','Likes','Rating','Tips']\n",
    "indian_rest_stats_ny=pd.DataFrame(columns=column_names)\n",
    "count=1\n",
    "\n",
    "\n",
    "for row in indian_rest_ny.values.tolist():\n",
    "    Borough,Neighborhood,ID,Name=row\n",
    "    try:\n",
    "        venue_details=get_venue_details(ID)\n",
    "        print(venue_details)\n",
    "        id,name,likes,rating,tips=venue_details.values.tolist()[0]\n",
    "    except IndexError:\n",
    "        print('No data available for id=',ID)\n",
    "        # we will assign 0 value for these resturants as they may have been \n",
    "        #recently opened or details does not exist in FourSquare Database\n",
    "        id,name,likes,rating,tips=[0]*5\n",
    "    print('(',count,'/',len(indian_rest_ny),')','processed')\n",
    "    indian_rest_stats_ny = indian_rest_stats_ny.append({'Borough': Borough,\n",
    "                                                'Neighborhood': Neighborhood, \n",
    "                                                'ID': id,\n",
    "                                                'Name' : name,\n",
    "                                                'Likes' : likes,\n",
    "                                                'Rating' : rating,\n",
    "                                                'Tips' : tips\n",
    "                                               }, ignore_index=True)\n",
    "    count+=1"
   ]
  },
  {
   "cell_type": "code",
   "execution_count": 18,
   "metadata": {},
   "outputs": [
    {
     "data": {
      "text/html": [
       "<div>\n",
       "<style scoped>\n",
       "    .dataframe tbody tr th:only-of-type {\n",
       "        vertical-align: middle;\n",
       "    }\n",
       "\n",
       "    .dataframe tbody tr th {\n",
       "        vertical-align: top;\n",
       "    }\n",
       "\n",
       "    .dataframe thead th {\n",
       "        text-align: right;\n",
       "    }\n",
       "</style>\n",
       "<table border=\"1\" class=\"dataframe\">\n",
       "  <thead>\n",
       "    <tr style=\"text-align: right;\">\n",
       "      <th></th>\n",
       "      <th>Borough</th>\n",
       "      <th>Neighborhood</th>\n",
       "      <th>ID</th>\n",
       "      <th>Name</th>\n",
       "      <th>Likes</th>\n",
       "      <th>Rating</th>\n",
       "      <th>Tips</th>\n",
       "    </tr>\n",
       "  </thead>\n",
       "  <tbody>\n",
       "    <tr>\n",
       "      <th>0</th>\n",
       "      <td>Bronx</td>\n",
       "      <td>Woodlawn</td>\n",
       "      <td>4c0448d9310fc9b6bf1dc761</td>\n",
       "      <td>Curry Spot</td>\n",
       "      <td>5</td>\n",
       "      <td>7.8</td>\n",
       "      <td>10</td>\n",
       "    </tr>\n",
       "    <tr>\n",
       "      <th>1</th>\n",
       "      <td>Bronx</td>\n",
       "      <td>Parkchester</td>\n",
       "      <td>4c194631838020a13e78e561</td>\n",
       "      <td>Melanies Roti Bar And Grill</td>\n",
       "      <td>3</td>\n",
       "      <td>6.0</td>\n",
       "      <td>2</td>\n",
       "    </tr>\n",
       "    <tr>\n",
       "      <th>2</th>\n",
       "      <td>Bronx</td>\n",
       "      <td>Spuyten Duyvil</td>\n",
       "      <td>4c04544df423a593ac83d116</td>\n",
       "      <td>Cumin Indian Cuisine</td>\n",
       "      <td>13</td>\n",
       "      <td>6.0</td>\n",
       "      <td>9</td>\n",
       "    </tr>\n",
       "    <tr>\n",
       "      <th>3</th>\n",
       "      <td>Bronx</td>\n",
       "      <td>Concourse</td>\n",
       "      <td>551b7f75498e86c00a0ed2e1</td>\n",
       "      <td>Hungry Bird</td>\n",
       "      <td>8</td>\n",
       "      <td>6.8</td>\n",
       "      <td>3</td>\n",
       "    </tr>\n",
       "    <tr>\n",
       "      <th>4</th>\n",
       "      <td>Bronx</td>\n",
       "      <td>Unionport</td>\n",
       "      <td>4c194631838020a13e78e561</td>\n",
       "      <td>Melanies Roti Bar And Grill</td>\n",
       "      <td>3</td>\n",
       "      <td>6.0</td>\n",
       "      <td>2</td>\n",
       "    </tr>\n",
       "  </tbody>\n",
       "</table>\n",
       "</div>"
      ],
      "text/plain": [
       "  Borough    Neighborhood                        ID  \\\n",
       "0   Bronx        Woodlawn  4c0448d9310fc9b6bf1dc761   \n",
       "1   Bronx     Parkchester  4c194631838020a13e78e561   \n",
       "2   Bronx  Spuyten Duyvil  4c04544df423a593ac83d116   \n",
       "3   Bronx       Concourse  551b7f75498e86c00a0ed2e1   \n",
       "4   Bronx       Unionport  4c194631838020a13e78e561   \n",
       "\n",
       "                          Name Likes  Rating Tips  \n",
       "0                   Curry Spot     5     7.8   10  \n",
       "1  Melanies Roti Bar And Grill     3     6.0    2  \n",
       "2         Cumin Indian Cuisine    13     6.0    9  \n",
       "3                  Hungry Bird     8     6.8    3  \n",
       "4  Melanies Roti Bar And Grill     3     6.0    2  "
      ]
     },
     "execution_count": 18,
     "metadata": {},
     "output_type": "execute_result"
    }
   ],
   "source": [
    "indian_rest_stats_ny.head()"
   ]
  },
  {
   "cell_type": "code",
   "execution_count": 19,
   "metadata": {},
   "outputs": [
    {
     "data": {
      "text/plain": [
       "(50, 7)"
      ]
     },
     "execution_count": 19,
     "metadata": {},
     "output_type": "execute_result"
    }
   ],
   "source": [
    "indian_rest_stats_ny.shape"
   ]
  },
  {
   "cell_type": "code",
   "execution_count": 20,
   "metadata": {},
   "outputs": [
    {
     "data": {
      "text/plain": [
       "(142, 4)"
      ]
     },
     "execution_count": 20,
     "metadata": {},
     "output_type": "execute_result"
    }
   ],
   "source": [
    "indian_rest_ny.shape"
   ]
  },
  {
   "cell_type": "markdown",
   "metadata": {},
   "source": [
    "### So we got data for all resturants Now lets save this data to a csv sheet. In case we by mistake modify it. As the number of calls to get details for venue are premium call and have limit of 500 per day, we will refer to saved data sheet csv if required"
   ]
  },
  {
   "cell_type": "code",
   "execution_count": 21,
   "metadata": {},
   "outputs": [],
   "source": [
    "indian_rest_stats_ny.to_csv('indian_rest_stats_ny.csv', index=False)"
   ]
  },
  {
   "cell_type": "markdown",
   "metadata": {},
   "source": [
    "### Lets verify the data from saved csv file"
   ]
  },
  {
   "cell_type": "code",
   "execution_count": 22,
   "metadata": {},
   "outputs": [],
   "source": [
    "indian_rest_stats_ny_csv=pd.read_csv('indian_rest_stats_ny.csv')"
   ]
  },
  {
   "cell_type": "code",
   "execution_count": 23,
   "metadata": {},
   "outputs": [
    {
     "data": {
      "text/plain": [
       "(50, 7)"
      ]
     },
     "execution_count": 23,
     "metadata": {},
     "output_type": "execute_result"
    }
   ],
   "source": [
    "indian_rest_stats_ny_csv.shape"
   ]
  },
  {
   "cell_type": "code",
   "execution_count": 24,
   "metadata": {},
   "outputs": [
    {
     "data": {
      "text/html": [
       "<div>\n",
       "<style scoped>\n",
       "    .dataframe tbody tr th:only-of-type {\n",
       "        vertical-align: middle;\n",
       "    }\n",
       "\n",
       "    .dataframe tbody tr th {\n",
       "        vertical-align: top;\n",
       "    }\n",
       "\n",
       "    .dataframe thead th {\n",
       "        text-align: right;\n",
       "    }\n",
       "</style>\n",
       "<table border=\"1\" class=\"dataframe\">\n",
       "  <thead>\n",
       "    <tr style=\"text-align: right;\">\n",
       "      <th></th>\n",
       "      <th>Borough</th>\n",
       "      <th>Neighborhood</th>\n",
       "      <th>ID</th>\n",
       "      <th>Name</th>\n",
       "      <th>Likes</th>\n",
       "      <th>Rating</th>\n",
       "      <th>Tips</th>\n",
       "    </tr>\n",
       "  </thead>\n",
       "  <tbody>\n",
       "    <tr>\n",
       "      <th>0</th>\n",
       "      <td>Bronx</td>\n",
       "      <td>Woodlawn</td>\n",
       "      <td>4c0448d9310fc9b6bf1dc761</td>\n",
       "      <td>Curry Spot</td>\n",
       "      <td>5</td>\n",
       "      <td>7.8</td>\n",
       "      <td>10</td>\n",
       "    </tr>\n",
       "    <tr>\n",
       "      <th>1</th>\n",
       "      <td>Bronx</td>\n",
       "      <td>Parkchester</td>\n",
       "      <td>4c194631838020a13e78e561</td>\n",
       "      <td>Melanies Roti Bar And Grill</td>\n",
       "      <td>3</td>\n",
       "      <td>6.0</td>\n",
       "      <td>2</td>\n",
       "    </tr>\n",
       "    <tr>\n",
       "      <th>2</th>\n",
       "      <td>Bronx</td>\n",
       "      <td>Spuyten Duyvil</td>\n",
       "      <td>4c04544df423a593ac83d116</td>\n",
       "      <td>Cumin Indian Cuisine</td>\n",
       "      <td>13</td>\n",
       "      <td>6.0</td>\n",
       "      <td>9</td>\n",
       "    </tr>\n",
       "    <tr>\n",
       "      <th>3</th>\n",
       "      <td>Bronx</td>\n",
       "      <td>Concourse</td>\n",
       "      <td>551b7f75498e86c00a0ed2e1</td>\n",
       "      <td>Hungry Bird</td>\n",
       "      <td>8</td>\n",
       "      <td>6.8</td>\n",
       "      <td>3</td>\n",
       "    </tr>\n",
       "    <tr>\n",
       "      <th>4</th>\n",
       "      <td>Bronx</td>\n",
       "      <td>Unionport</td>\n",
       "      <td>4c194631838020a13e78e561</td>\n",
       "      <td>Melanies Roti Bar And Grill</td>\n",
       "      <td>3</td>\n",
       "      <td>6.0</td>\n",
       "      <td>2</td>\n",
       "    </tr>\n",
       "  </tbody>\n",
       "</table>\n",
       "</div>"
      ],
      "text/plain": [
       "  Borough    Neighborhood                        ID  \\\n",
       "0   Bronx        Woodlawn  4c0448d9310fc9b6bf1dc761   \n",
       "1   Bronx     Parkchester  4c194631838020a13e78e561   \n",
       "2   Bronx  Spuyten Duyvil  4c04544df423a593ac83d116   \n",
       "3   Bronx       Concourse  551b7f75498e86c00a0ed2e1   \n",
       "4   Bronx       Unionport  4c194631838020a13e78e561   \n",
       "\n",
       "                          Name  Likes  Rating  Tips  \n",
       "0                   Curry Spot      5     7.8    10  \n",
       "1  Melanies Roti Bar And Grill      3     6.0     2  \n",
       "2         Cumin Indian Cuisine     13     6.0     9  \n",
       "3                  Hungry Bird      8     6.8     3  \n",
       "4  Melanies Roti Bar And Grill      3     6.0     2  "
      ]
     },
     "execution_count": 24,
     "metadata": {},
     "output_type": "execute_result"
    }
   ],
   "source": [
    "indian_rest_stats_ny_csv.head()"
   ]
  },
  {
   "cell_type": "code",
   "execution_count": 25,
   "metadata": {},
   "outputs": [
    {
     "name": "stdout",
     "output_type": "stream",
     "text": [
      "<class 'pandas.core.frame.DataFrame'>\n",
      "RangeIndex: 50 entries, 0 to 49\n",
      "Data columns (total 7 columns):\n",
      " #   Column        Non-Null Count  Dtype  \n",
      "---  ------        --------------  -----  \n",
      " 0   Borough       50 non-null     object \n",
      " 1   Neighborhood  50 non-null     object \n",
      " 2   ID            50 non-null     object \n",
      " 3   Name          50 non-null     object \n",
      " 4   Likes         50 non-null     object \n",
      " 5   Rating        50 non-null     float64\n",
      " 6   Tips          50 non-null     object \n",
      "dtypes: float64(1), object(6)\n",
      "memory usage: 2.9+ KB\n"
     ]
    }
   ],
   "source": [
    "indian_rest_stats_ny.info()"
   ]
  },
  {
   "cell_type": "markdown",
   "metadata": {},
   "source": [
    "### We see that values like Likes, Tips are string values. We would need to convert them into float for further analysis"
   ]
  },
  {
   "cell_type": "code",
   "execution_count": 26,
   "metadata": {},
   "outputs": [],
   "source": [
    "indian_rest_stats_ny['Likes']=indian_rest_stats_ny['Likes'].astype('float64')"
   ]
  },
  {
   "cell_type": "code",
   "execution_count": 27,
   "metadata": {},
   "outputs": [],
   "source": [
    "indian_rest_stats_ny['Tips']=indian_rest_stats_ny['Tips'].astype('float64')"
   ]
  },
  {
   "cell_type": "code",
   "execution_count": 28,
   "metadata": {},
   "outputs": [
    {
     "name": "stdout",
     "output_type": "stream",
     "text": [
      "<class 'pandas.core.frame.DataFrame'>\n",
      "RangeIndex: 50 entries, 0 to 49\n",
      "Data columns (total 7 columns):\n",
      " #   Column        Non-Null Count  Dtype  \n",
      "---  ------        --------------  -----  \n",
      " 0   Borough       50 non-null     object \n",
      " 1   Neighborhood  50 non-null     object \n",
      " 2   ID            50 non-null     object \n",
      " 3   Name          50 non-null     object \n",
      " 4   Likes         50 non-null     float64\n",
      " 5   Rating        50 non-null     float64\n",
      " 6   Tips          50 non-null     float64\n",
      "dtypes: float64(3), object(4)\n",
      "memory usage: 2.9+ KB\n"
     ]
    }
   ],
   "source": [
    "indian_rest_stats_ny.info()"
   ]
  },
  {
   "cell_type": "code",
   "execution_count": 29,
   "metadata": {},
   "outputs": [
    {
     "data": {
      "text/plain": [
       "Borough                        Manhattan\n",
       "Neighborhood                    Gramercy\n",
       "ID              4a12eb1ff964a52099771fe3\n",
       "Name                               Dhaba\n",
       "Likes                                497\n",
       "Rating                               8.3\n",
       "Tips                                 164\n",
       "Name: 47, dtype: object"
      ]
     },
     "execution_count": 29,
     "metadata": {},
     "output_type": "execute_result"
    }
   ],
   "source": [
    "# Resturant with maximum Likes\n",
    "indian_rest_stats_ny.iloc[indian_rest_stats_ny['Likes'].idxmax()]"
   ]
  },
  {
   "cell_type": "code",
   "execution_count": 30,
   "metadata": {},
   "outputs": [
    {
     "data": {
      "text/plain": [
       "Borough                         Brooklyn\n",
       "Neighborhood                 Fort Greene\n",
       "ID              57596dad498e732300496b23\n",
       "Name                         Dosa Royale\n",
       "Likes                                 75\n",
       "Rating                               8.8\n",
       "Tips                                  22\n",
       "Name: 15, dtype: object"
      ]
     },
     "execution_count": 30,
     "metadata": {},
     "output_type": "execute_result"
    }
   ],
   "source": [
    "# Resturant with maximum Rating\n",
    "indian_rest_stats_ny.iloc[indian_rest_stats_ny['Rating'].idxmax()]"
   ]
  },
  {
   "cell_type": "code",
   "execution_count": 31,
   "metadata": {},
   "outputs": [
    {
     "data": {
      "text/plain": [
       "Borough                        Manhattan\n",
       "Neighborhood                    Gramercy\n",
       "ID              4a12eb1ff964a52099771fe3\n",
       "Name                               Dhaba\n",
       "Likes                                497\n",
       "Rating                               8.3\n",
       "Tips                                 164\n",
       "Name: 47, dtype: object"
      ]
     },
     "execution_count": 31,
     "metadata": {},
     "output_type": "execute_result"
    }
   ],
   "source": [
    "# Resturant with maximum Tips\n",
    "indian_rest_stats_ny.iloc[indian_rest_stats_ny['Tips'].idxmax()]"
   ]
  },
  {
   "cell_type": "code",
   "execution_count": 32,
   "metadata": {},
   "outputs": [],
   "source": [
    "ny_neighborhood_stats=indian_rest_stats_ny.groupby('Neighborhood',as_index=False).mean()[['Neighborhood','Rating']]\n",
    "ny_neighborhood_stats.columns=['Neighborhood','Average Rating']"
   ]
  },
  {
   "cell_type": "code",
   "execution_count": 33,
   "metadata": {},
   "outputs": [
    {
     "data": {
      "text/html": [
       "<div>\n",
       "<style scoped>\n",
       "    .dataframe tbody tr th:only-of-type {\n",
       "        vertical-align: middle;\n",
       "    }\n",
       "\n",
       "    .dataframe tbody tr th {\n",
       "        vertical-align: top;\n",
       "    }\n",
       "\n",
       "    .dataframe thead th {\n",
       "        text-align: right;\n",
       "    }\n",
       "</style>\n",
       "<table border=\"1\" class=\"dataframe\">\n",
       "  <thead>\n",
       "    <tr style=\"text-align: right;\">\n",
       "      <th></th>\n",
       "      <th>Neighborhood</th>\n",
       "      <th>Average Rating</th>\n",
       "    </tr>\n",
       "  </thead>\n",
       "  <tbody>\n",
       "    <tr>\n",
       "      <th>10</th>\n",
       "      <td>Fort Greene</td>\n",
       "      <td>8.8</td>\n",
       "    </tr>\n",
       "    <tr>\n",
       "      <th>3</th>\n",
       "      <td>Chelsea</td>\n",
       "      <td>8.8</td>\n",
       "    </tr>\n",
       "    <tr>\n",
       "      <th>4</th>\n",
       "      <td>Clinton Hill</td>\n",
       "      <td>8.8</td>\n",
       "    </tr>\n",
       "    <tr>\n",
       "      <th>31</th>\n",
       "      <td>West Village</td>\n",
       "      <td>8.7</td>\n",
       "    </tr>\n",
       "    <tr>\n",
       "      <th>23</th>\n",
       "      <td>Prospect Heights</td>\n",
       "      <td>8.7</td>\n",
       "    </tr>\n",
       "    <tr>\n",
       "      <th>24</th>\n",
       "      <td>Prospect Lefferts Gardens</td>\n",
       "      <td>8.7</td>\n",
       "    </tr>\n",
       "    <tr>\n",
       "      <th>20</th>\n",
       "      <td>Murray Hill</td>\n",
       "      <td>8.6</td>\n",
       "    </tr>\n",
       "    <tr>\n",
       "      <th>29</th>\n",
       "      <td>Upper West Side</td>\n",
       "      <td>8.5</td>\n",
       "    </tr>\n",
       "    <tr>\n",
       "      <th>26</th>\n",
       "      <td>Roosevelt Island</td>\n",
       "      <td>8.5</td>\n",
       "    </tr>\n",
       "    <tr>\n",
       "      <th>13</th>\n",
       "      <td>Gramercy</td>\n",
       "      <td>8.4</td>\n",
       "    </tr>\n",
       "  </tbody>\n",
       "</table>\n",
       "</div>"
      ],
      "text/plain": [
       "                 Neighborhood  Average Rating\n",
       "10                Fort Greene             8.8\n",
       "3                     Chelsea             8.8\n",
       "4                Clinton Hill             8.8\n",
       "31               West Village             8.7\n",
       "23           Prospect Heights             8.7\n",
       "24  Prospect Lefferts Gardens             8.7\n",
       "20                Murray Hill             8.6\n",
       "29            Upper West Side             8.5\n",
       "26           Roosevelt Island             8.5\n",
       "13                   Gramercy             8.4"
      ]
     },
     "execution_count": 33,
     "metadata": {},
     "output_type": "execute_result"
    }
   ],
   "source": [
    "ny_neighborhood_stats.sort_values(['Average Rating'],ascending=False).head(10)"
   ]
  },
  {
   "cell_type": "markdown",
   "metadata": {},
   "source": [
    "### The above table shows the Top 10 Indian Resturants with Average ratings"
   ]
  },
  {
   "cell_type": "code",
   "execution_count": 34,
   "metadata": {},
   "outputs": [],
   "source": [
    "ny_borough_stats=indian_rest_stats_ny.groupby('Borough',as_index=False).mean()[['Borough','Rating']]\n",
    "ny_borough_stats.columns=['Borough','Average Rating']"
   ]
  },
  {
   "cell_type": "code",
   "execution_count": 35,
   "metadata": {},
   "outputs": [
    {
     "data": {
      "text/html": [
       "<div>\n",
       "<style scoped>\n",
       "    .dataframe tbody tr th:only-of-type {\n",
       "        vertical-align: middle;\n",
       "    }\n",
       "\n",
       "    .dataframe tbody tr th {\n",
       "        vertical-align: top;\n",
       "    }\n",
       "\n",
       "    .dataframe thead th {\n",
       "        text-align: right;\n",
       "    }\n",
       "</style>\n",
       "<table border=\"1\" class=\"dataframe\">\n",
       "  <thead>\n",
       "    <tr style=\"text-align: right;\">\n",
       "      <th></th>\n",
       "      <th>Borough</th>\n",
       "      <th>Average Rating</th>\n",
       "    </tr>\n",
       "  </thead>\n",
       "  <tbody>\n",
       "    <tr>\n",
       "      <th>2</th>\n",
       "      <td>Manhattan</td>\n",
       "      <td>8.107692</td>\n",
       "    </tr>\n",
       "    <tr>\n",
       "      <th>1</th>\n",
       "      <td>Brooklyn</td>\n",
       "      <td>7.836842</td>\n",
       "    </tr>\n",
       "    <tr>\n",
       "      <th>0</th>\n",
       "      <td>Bronx</td>\n",
       "      <td>6.520000</td>\n",
       "    </tr>\n",
       "  </tbody>\n",
       "</table>\n",
       "</div>"
      ],
      "text/plain": [
       "     Borough  Average Rating\n",
       "2  Manhattan        8.107692\n",
       "1   Brooklyn        7.836842\n",
       "0      Bronx        6.520000"
      ]
     },
     "execution_count": 35,
     "metadata": {},
     "output_type": "execute_result"
    }
   ],
   "source": [
    "ny_borough_stats.sort_values(['Average Rating'],ascending=False).head()"
   ]
  },
  {
   "cell_type": "markdown",
   "metadata": {},
   "source": [
    "### Similarly these are the average rating of Indian Resturants for each Borough\n",
    "\n",
    "### Lets visualize it"
   ]
  },
  {
   "cell_type": "code",
   "execution_count": 36,
   "metadata": {},
   "outputs": [
    {
     "data": {
      "image/png": "[encoded data removed]",
      "text/plain": [
       "<Figure size 900x500 with 1 Axes>"
      ]
     },
     "metadata": {
      "needs_background": "light"
     },
     "output_type": "display_data"
    }
   ],
   "source": [
    "plt.figure(figsize=(9,5), dpi = 100)\n",
    "# title\n",
    "plt.title('Average rating of Indian Resturants for each Borough')\n",
    "#On x-axis\n",
    "plt.xlabel('Borough', fontsize = 15)\n",
    "#On y-axis\n",
    "plt.ylabel('Average Rating', fontsize=15)\n",
    "#giving a bar plot\n",
    "indian_rest_stats_ny.groupby('Borough').mean()['Rating'].plot(kind='bar')\n",
    "#legend\n",
    "plt.legend()\n",
    "#displays the plot\n",
    "plt.show()"
   ]
  },
  {
   "cell_type": "markdown",
   "metadata": {},
   "source": [
    "### We will consider all the neighborhoods with average rating greater or equal 9.0 to visualize on map"
   ]
  },
  {
   "cell_type": "code",
   "execution_count": 50,
   "metadata": {},
   "outputs": [],
   "source": [
    "ny_neighborhood_stats=ny_neighborhood_stats[ny_neighborhood_stats['Average Rating']>=9.0]"
   ]
  },
  {
   "cell_type": "code",
   "execution_count": 51,
   "metadata": {},
   "outputs": [
    {
     "data": {
      "text/html": [
       "<div>\n",
       "<style scoped>\n",
       "    .dataframe tbody tr th:only-of-type {\n",
       "        vertical-align: middle;\n",
       "    }\n",
       "\n",
       "    .dataframe tbody tr th {\n",
       "        vertical-align: top;\n",
       "    }\n",
       "\n",
       "    .dataframe thead th {\n",
       "        text-align: right;\n",
       "    }\n",
       "</style>\n",
       "<table border=\"1\" class=\"dataframe\">\n",
       "  <thead>\n",
       "    <tr style=\"text-align: right;\">\n",
       "      <th></th>\n",
       "      <th>Borough_x</th>\n",
       "      <th>Latitude_x</th>\n",
       "      <th>Longitude_x</th>\n",
       "      <th>Average Rating</th>\n",
       "      <th>Borough_y</th>\n",
       "      <th>Neighborhood</th>\n",
       "      <th>Latitude_y</th>\n",
       "      <th>Longitude_y</th>\n",
       "    </tr>\n",
       "  </thead>\n",
       "  <tbody>\n",
       "  </tbody>\n",
       "</table>\n",
       "</div>"
      ],
      "text/plain": [
       "Empty DataFrame\n",
       "Columns: [Borough_x, Latitude_x, Longitude_x, Average Rating, Borough_y, Neighborhood, Latitude_y, Longitude_y]\n",
       "Index: []"
      ]
     },
     "execution_count": 51,
     "metadata": {},
     "output_type": "execute_result"
    }
   ],
   "source": [
    "ny_neighborhood_stats"
   ]
  },
  {
   "cell_type": "markdown",
   "metadata": {},
   "source": [
    "### We will join this dataset to original new york data to get lonitude and latitude"
   ]
  },
  {
   "cell_type": "code",
   "execution_count": 52,
   "metadata": {},
   "outputs": [],
   "source": [
    "ny_neighborhood_stats=pd.merge(ny_neighborhood_stats,new_york_data, on='Neighborhood')"
   ]
  },
  {
   "cell_type": "code",
   "execution_count": 53,
   "metadata": {},
   "outputs": [],
   "source": [
    "ny_neighborhood_stats=ny_neighborhood_stats[['Borough','Neighborhood','Latitude','Longitude','Average Rating']]"
   ]
  },
  {
   "cell_type": "code",
   "execution_count": 54,
   "metadata": {},
   "outputs": [
    {
     "data": {
      "text/html": [
       "<div>\n",
       "<style scoped>\n",
       "    .dataframe tbody tr th:only-of-type {\n",
       "        vertical-align: middle;\n",
       "    }\n",
       "\n",
       "    .dataframe tbody tr th {\n",
       "        vertical-align: top;\n",
       "    }\n",
       "\n",
       "    .dataframe thead th {\n",
       "        text-align: right;\n",
       "    }\n",
       "</style>\n",
       "<table border=\"1\" class=\"dataframe\">\n",
       "  <thead>\n",
       "    <tr style=\"text-align: right;\">\n",
       "      <th></th>\n",
       "      <th>Borough</th>\n",
       "      <th>Neighborhood</th>\n",
       "      <th>Latitude</th>\n",
       "      <th>Longitude</th>\n",
       "      <th>Average Rating</th>\n",
       "    </tr>\n",
       "  </thead>\n",
       "  <tbody>\n",
       "  </tbody>\n",
       "</table>\n",
       "</div>"
      ],
      "text/plain": [
       "Empty DataFrame\n",
       "Columns: [Borough, Neighborhood, Latitude, Longitude, Average Rating]\n",
       "Index: []"
      ]
     },
     "execution_count": 54,
     "metadata": {},
     "output_type": "execute_result"
    }
   ],
   "source": [
    "ny_neighborhood_stats"
   ]
  },
  {
   "cell_type": "markdown",
   "metadata": {},
   "source": [
    "### Now we will show this data on a map"
   ]
  },
  {
   "cell_type": "code",
   "execution_count": 55,
   "metadata": {},
   "outputs": [],
   "source": [
    "# create map and display it\n",
    "ny_map = folium.Map(location=geo_location('New York'), zoom_start=12)"
   ]
  },
  {
   "cell_type": "code",
   "execution_count": 56,
   "metadata": {},
   "outputs": [],
   "source": [
    "# instantiate a feature group for the incidents in the dataframe\n",
    "incidents = folium.map.FeatureGroup()\n",
    "\n",
    "# loop through the 100 crimes and add each to the incidents feature group\n",
    "for lat, lng, in ny_neighborhood_stats[['Latitude','Longitude']].values:\n",
    "    incidents.add_child(\n",
    "        folium.CircleMarker(\n",
    "            [lat, lng],\n",
    "            radius=10, # define how big you want the circle markers to be\n",
    "            color='yellow',\n",
    "            fill=True,\n",
    "            fill_color='blue',\n",
    "            fill_opacity=0.6\n",
    "        )\n",
    "    )"
   ]
  },
  {
   "cell_type": "code",
   "execution_count": 57,
   "metadata": {},
   "outputs": [],
   "source": [
    "# add new labeling to dataframe\n",
    "ny_neighborhood_stats['Label']=ny_neighborhood_stats['Neighborhood']+', '+ny_neighborhood_stats['Borough']+'('+ny_neighborhood_stats['Average Rating'].map(str)+')'"
   ]
  },
  {
   "cell_type": "code",
   "execution_count": 58,
   "metadata": {},
   "outputs": [
    {
     "data": {
      "text/html": [
       "<div style=\"width:100%;\"><div style=\"position:relative;width:100%;height:0;padding-bottom:60%;\"><span style=\"color:#565656\">Make this Notebook Trusted to load map: File -> Trust Notebook</span><iframe src=\"about:blank\" style=\"position:absolute;width:100%;height:100%;left:0;top:0;border:none !important;\" data-html=PCFET0NUWVBFIGh0bWw+CjxoZWFkPiAgICAKICAgIDxtZXRhIGh0dHAtZXF1aXY9ImNvbnRlbnQtdHlwZSIgY29udGVudD0idGV4dC9odG1sOyBjaGFyc2V0PVVURi04IiAvPgogICAgPHNjcmlwdD5MX1BSRUZFUl9DQU5WQVMgPSBmYWxzZTsgTF9OT19UT1VDSCA9IGZhbHNlOyBMX0RJU0FCTEVfM0QgPSBmYWxzZTs8L3NjcmlwdD4KICAgIDxzY3JpcHQgc3JjPSJodHRwczovL2Nkbi5qc2RlbGl2ci5uZXQvbnBtL2xlYWZsZXRAMS4yLjAvZGlzdC9sZWFmbGV0LmpzIj48L3NjcmlwdD4KICAgIDxzY3JpcHQgc3JjPSJodHRwczovL2FqYXguZ29vZ2xlYXBpcy5jb20vYWpheC9saWJzL2pxdWVyeS8xLjExLjEvanF1ZXJ5Lm1pbi5qcyI+PC9zY3JpcHQ+CiAgICA8c2NyaXB0IHNyYz0iaHR0cHM6Ly9tYXhjZG4uYm9vdHN0cmFwY2RuLmNvbS9ib290c3RyYXAvMy4yLjAvanMvYm9vdHN0cmFwLm1pbi5qcyI+PC9zY3JpcHQ+CiAgICA8c2NyaXB0IHNyYz0iaHR0cHM6Ly9jZG5qcy5jbG91ZGZsYXJlLmNvbS9hamF4L2xpYnMvTGVhZmxldC5hd2Vzb21lLW1hcmtlcnMvMi4wLjIvbGVhZmxldC5hd2Vzb21lLW1hcmtlcnMuanMiPjwvc2NyaXB0PgogICAgPGxpbmsgcmVsPSJzdHlsZXNoZWV0IiBocmVmPSJodHRwczovL2Nkbi5qc2RlbGl2ci5uZXQvbnBtL2xlYWZsZXRAMS4yLjAvZGlzdC9sZWFmbGV0LmNzcyIvPgogICAgPGxpbmsgcmVsPSJzdHlsZXNoZWV0IiBocmVmPSJodHRwczovL21heGNkbi5ib290c3RyYXBjZG4uY29tL2Jvb3RzdHJhcC8zLjIuMC9jc3MvYm9vdHN0cmFwLm1pbi5jc3MiLz4KICAgIDxsaW5rIHJlbD0ic3R5bGVzaGVldCIgaHJlZj0iaHR0cHM6Ly9tYXhjZG4uYm9vdHN0cmFwY2RuLmNvbS9ib290c3RyYXAvMy4yLjAvY3NzL2Jvb3RzdHJhcC10aGVtZS5taW4uY3NzIi8+CiAgICA8bGluayByZWw9InN0eWxlc2hlZXQiIGhyZWY9Imh0dHBzOi8vbWF4Y2RuLmJvb3RzdHJhcGNkbi5jb20vZm9udC1hd2Vzb21lLzQuNi4zL2Nzcy9mb250LWF3ZXNvbWUubWluLmNzcyIvPgogICAgPGxpbmsgcmVsPSJzdHlsZXNoZWV0IiBocmVmPSJodHRwczovL2NkbmpzLmNsb3VkZmxhcmUuY29tL2FqYXgvbGlicy9MZWFmbGV0LmF3ZXNvbWUtbWFya2Vycy8yLjAuMi9sZWFmbGV0LmF3ZXNvbWUtbWFya2Vycy5jc3MiLz4KICAgIDxsaW5rIHJlbD0ic3R5bGVzaGVldCIgaHJlZj0iaHR0cHM6Ly9yYXdnaXQuY29tL3B5dGhvbi12aXN1YWxpemF0aW9uL2ZvbGl1bS9tYXN0ZXIvZm9saXVtL3RlbXBsYXRlcy9sZWFmbGV0LmF3ZXNvbWUucm90YXRlLmNzcyIvPgogICAgPHN0eWxlPmh0bWwsIGJvZHkge3dpZHRoOiAxMDAlO2hlaWdodDogMTAwJTttYXJnaW46IDA7cGFkZGluZzogMDt9PC9zdHlsZT4KICAgIDxzdHlsZT4jbWFwIHtwb3NpdGlvbjphYnNvbHV0ZTt0b3A6MDtib3R0b206MDtyaWdodDowO2xlZnQ6MDt9PC9zdHlsZT4KICAgIAogICAgICAgICAgICA8c3R5bGU+ICNtYXBfODBhM2Y2ODVhMWE3NGVjMWJmOWJlYjI4NGUyMWM4M2IgewogICAgICAgICAgICAgICAgcG9zaXRpb24gOiByZWxhdGl2ZTsKICAgICAgICAgICAgICAgIHdpZHRoIDogMTAwLjAlOwogICAgICAgICAgICAgICAgaGVpZ2h0OiAxMDAuMCU7CiAgICAgICAgICAgICAgICBsZWZ0OiAwLjAlOwogICAgICAgICAgICAgICAgdG9wOiAwLjAlOwogICAgICAgICAgICAgICAgfQogICAgICAgICAgICA8L3N0eWxlPgogICAgICAgIAo8L2hlYWQ+Cjxib2R5PiAgICAKICAgIAogICAgICAgICAgICA8ZGl2IGNsYXNzPSJmb2xpdW0tbWFwIiBpZD0ibWFwXzgwYTNmNjg1YTFhNzRlYzFiZjliZWIyODRlMjFjODNiIiA+PC9kaXY+CiAgICAgICAgCjwvYm9keT4KPHNjcmlwdD4gICAgCiAgICAKCiAgICAgICAgICAgIAogICAgICAgICAgICAgICAgdmFyIGJvdW5kcyA9IG51bGw7CiAgICAgICAgICAgIAoKICAgICAgICAgICAgdmFyIG1hcF84MGEzZjY4NWExYTc0ZWMxYmY5YmViMjg0ZTIxYzgzYiA9IEwubWFwKAogICAgICAgICAgICAgICAgICAgICAgICAgICAgICAgICAgJ21hcF84MGEzZjY4NWExYTc0ZWMxYmY5YmViMjg0ZTIxYzgzYicsCiAgICAgICAgICAgICAgICAgICAgICAgICAgICAgICAgICB7Y2VudGVyOiBbNDAuNzEyNzI4MSwtNzQuMDA2MDE1Ml0sCiAgICAgICAgICAgICAgICAgICAgICAgICAgICAgICAgICB6b29tOiAxMiwKICAgICAgICAgICAgICAgICAgICAgICAgICAgICAgICAgIG1heEJvdW5kczogYm91bmRzLAogICAgICAgICAgICAgICAgICAgICAgICAgICAgICAgICAgbGF5ZXJzOiBbXSwKICAgICAgICAgICAgICAgICAgICAgICAgICAgICAgICAgIHdvcmxkQ29weUp1bXA6IGZhbHNlLAogICAgICAgICAgICAgICAgICAgICAgICAgICAgICAgICAgY3JzOiBMLkNSUy5FUFNHMzg1NwogICAgICAgICAgICAgICAgICAgICAgICAgICAgICAgICB9KTsKICAgICAgICAgICAgCiAgICAgICAgCiAgICAKICAgICAgICAgICAgdmFyIHRpbGVfbGF5ZXJfOWE1NDYyMzUyYTMzNDliZThjNGUxZGEzYmVjOWRmMWUgPSBMLnRpbGVMYXllcigKICAgICAgICAgICAgICAgICdodHRwczovL3tzfS50aWxlLm9wZW5zdHJlZXRtYXAub3JnL3t6fS97eH0ve3l9LnBuZycsCiAgICAgICAgICAgICAgICB7CiAgImF0dHJpYnV0aW9uIjogbnVsbCwKICAiZGV0ZWN0UmV0aW5hIjogZmFsc2UsCiAgIm1heFpvb20iOiAxOCwKICAibWluWm9vbSI6IDEsCiAgIm5vV3JhcCI6IGZhbHNlLAogICJzdWJkb21haW5zIjogImFiYyIKfQogICAgICAgICAgICAgICAgKS5hZGRUbyhtYXBfODBhM2Y2ODVhMWE3NGVjMWJmOWJlYjI4NGUyMWM4M2IpOwogICAgICAgIAogICAgCiAgICAgICAgICAgIHZhciBmZWF0dXJlX2dyb3VwXzhjOWFhMzVjZDNiNDRkNzI4ZTY5NDZjNWU5N2E3YzUzID0gTC5mZWF0dXJlR3JvdXAoCiAgICAgICAgICAgICAgICApLmFkZFRvKG1hcF84MGEzZjY4NWExYTc0ZWMxYmY5YmViMjg0ZTIxYzgzYik7CiAgICAgICAgCjwvc2NyaXB0Pg== onload=\"this.contentDocument.open();this.contentDocument.write(atob(this.getAttribute('data-html')));this.contentDocument.close();\" allowfullscreen webkitallowfullscreen mozallowfullscreen></iframe></div></div>"
      ],
      "text/plain": [
       "<folium.folium.Map at 0x7feef0d92ba8>"
      ]
     },
     "execution_count": 58,
     "metadata": {},
     "output_type": "execute_result"
    }
   ],
   "source": [
    "# add pop-up text to each marker on the map\n",
    "for lat, lng, label in ny_neighborhood_stats[['Latitude','Longitude','Label']].values:\n",
    "    folium.Marker([lat, lng], popup=label).add_to(ny_map)        \n",
    "# add incidents to map\n",
    "ny_map.add_child(incidents)"
   ]
  },
  {
   "cell_type": "markdown",
   "metadata": {},
   "source": [
    "### Now that we have visualized the Neighborhoods. Lets Visualize Boroughs based on average Rating"
   ]
  },
  {
   "cell_type": "code",
   "execution_count": 59,
   "metadata": {},
   "outputs": [
    {
     "ename": "FileNotFoundError",
     "evalue": "[Errno 2] No such file or directory: 'Borough Boundaries.geojson'",
     "output_type": "error",
     "traceback": [
      "\u001b[0;31m---------------------------------------------------------------------------\u001b[0m",
      "\u001b[0;31mFileNotFoundError\u001b[0m                         Traceback (most recent call last)",
      "\u001b[0;32m<ipython-input-59-ebe246b43de3>\u001b[0m in \u001b[0;36m<module>\u001b[0;34m\u001b[0m\n\u001b[1;32m     10\u001b[0m     \u001b[0mfill_opacity\u001b[0m\u001b[0;34m=\u001b[0m\u001b[0;36m0.7\u001b[0m\u001b[0;34m,\u001b[0m\u001b[0;34m\u001b[0m\u001b[0;34m\u001b[0m\u001b[0m\n\u001b[1;32m     11\u001b[0m     \u001b[0mline_opacity\u001b[0m\u001b[0;34m=\u001b[0m\u001b[0;36m0.2\u001b[0m\u001b[0;34m,\u001b[0m\u001b[0;34m\u001b[0m\u001b[0;34m\u001b[0m\u001b[0m\n\u001b[0;32m---> 12\u001b[0;31m     \u001b[0mlegend_name\u001b[0m\u001b[0;34m=\u001b[0m\u001b[0;34m'Average Rating'\u001b[0m\u001b[0;34m\u001b[0m\u001b[0;34m\u001b[0m\u001b[0m\n\u001b[0m\u001b[1;32m     13\u001b[0m )\n\u001b[1;32m     14\u001b[0m \u001b[0;34m\u001b[0m\u001b[0m\n",
      "\u001b[0;32m~/conda/envs/python/lib/python3.6/site-packages/folium/folium.py\u001b[0m in \u001b[0;36mchoropleth\u001b[0;34m(self, geo_data, data, columns, key_on, threshold_scale, fill_color, fill_opacity, line_color, line_weight, line_opacity, name, legend_name, topojson, reset, smooth_factor, highlight)\u001b[0m\n\u001b[1;32m    325\u001b[0m                 \u001b[0mstyle_function\u001b[0m\u001b[0;34m=\u001b[0m\u001b[0mstyle_function\u001b[0m\u001b[0;34m,\u001b[0m\u001b[0;34m\u001b[0m\u001b[0;34m\u001b[0m\u001b[0m\n\u001b[1;32m    326\u001b[0m                 \u001b[0msmooth_factor\u001b[0m\u001b[0;34m=\u001b[0m\u001b[0msmooth_factor\u001b[0m\u001b[0;34m,\u001b[0m\u001b[0;34m\u001b[0m\u001b[0;34m\u001b[0m\u001b[0m\n\u001b[0;32m--> 327\u001b[0;31m                 highlight_function=highlight_function if highlight else None)\n\u001b[0m\u001b[1;32m    328\u001b[0m \u001b[0;34m\u001b[0m\u001b[0m\n\u001b[1;32m    329\u001b[0m         \u001b[0mself\u001b[0m\u001b[0;34m.\u001b[0m\u001b[0madd_child\u001b[0m\u001b[0;34m(\u001b[0m\u001b[0mgeo_json\u001b[0m\u001b[0;34m)\u001b[0m\u001b[0;34m\u001b[0m\u001b[0;34m\u001b[0m\u001b[0m\n",
      "\u001b[0;32m~/conda/envs/python/lib/python3.6/site-packages/folium/features.py\u001b[0m in \u001b[0;36m__init__\u001b[0;34m(self, data, style_function, name, overlay, control, smooth_factor, highlight_function)\u001b[0m\n\u001b[1;32m    479\u001b[0m                 \u001b[0mself\u001b[0m\u001b[0;34m.\u001b[0m\u001b[0mdata\u001b[0m \u001b[0;34m=\u001b[0m \u001b[0mjson\u001b[0m\u001b[0;34m.\u001b[0m\u001b[0mloads\u001b[0m\u001b[0;34m(\u001b[0m\u001b[0mdata\u001b[0m\u001b[0;34m)\u001b[0m\u001b[0;34m\u001b[0m\u001b[0;34m\u001b[0m\u001b[0m\n\u001b[1;32m    480\u001b[0m             \u001b[0;32melse\u001b[0m\u001b[0;34m:\u001b[0m  \u001b[0;31m# This is a filename\u001b[0m\u001b[0;34m\u001b[0m\u001b[0;34m\u001b[0m\u001b[0m\n\u001b[0;32m--> 481\u001b[0;31m                 \u001b[0;32mwith\u001b[0m \u001b[0mopen\u001b[0m\u001b[0;34m(\u001b[0m\u001b[0mdata\u001b[0m\u001b[0;34m)\u001b[0m \u001b[0;32mas\u001b[0m \u001b[0mf\u001b[0m\u001b[0;34m:\u001b[0m\u001b[0;34m\u001b[0m\u001b[0;34m\u001b[0m\u001b[0m\n\u001b[0m\u001b[1;32m    482\u001b[0m                     \u001b[0mself\u001b[0m\u001b[0;34m.\u001b[0m\u001b[0mdata\u001b[0m \u001b[0;34m=\u001b[0m \u001b[0mjson\u001b[0m\u001b[0;34m.\u001b[0m\u001b[0mloads\u001b[0m\u001b[0;34m(\u001b[0m\u001b[0mf\u001b[0m\u001b[0;34m.\u001b[0m\u001b[0mread\u001b[0m\u001b[0;34m(\u001b[0m\u001b[0;34m)\u001b[0m\u001b[0;34m)\u001b[0m\u001b[0;34m\u001b[0m\u001b[0;34m\u001b[0m\u001b[0m\n\u001b[1;32m    483\u001b[0m         \u001b[0;32melif\u001b[0m \u001b[0mdata\u001b[0m\u001b[0;34m.\u001b[0m\u001b[0m__class__\u001b[0m\u001b[0;34m.\u001b[0m\u001b[0m__name__\u001b[0m \u001b[0;32min\u001b[0m \u001b[0;34m[\u001b[0m\u001b[0;34m'GeoDataFrame'\u001b[0m\u001b[0;34m,\u001b[0m \u001b[0;34m'GeoSeries'\u001b[0m\u001b[0;34m]\u001b[0m\u001b[0;34m:\u001b[0m\u001b[0;34m\u001b[0m\u001b[0;34m\u001b[0m\u001b[0m\n",
      "\u001b[0;31mFileNotFoundError\u001b[0m: [Errno 2] No such file or directory: 'Borough Boundaries.geojson'"
     ]
    }
   ],
   "source": [
    "ny_map = folium.Map(location=geo_location('New York'), zoom_start=12)\n",
    "ny_geo = r'Borough Boundaries.geojson'\n",
    "\n",
    "ny_map.choropleth(\n",
    "    geo_data=ny_geo,\n",
    "    data=ny_borough_stats,\n",
    "    columns=['Borough', 'Average Rating'],\n",
    "    key_on='feature.properties.boro_name',\n",
    "    fill_color='YlOrRd', \n",
    "    fill_opacity=0.7, \n",
    "    line_opacity=0.2,\n",
    "    legend_name='Average Rating'\n",
    ")\n",
    "\n",
    "# display map\n",
    "# as this is huge map data , we will save it to a file\n",
    "ny_map.save('borough_rating.html')"
   ]
  },
  {
   "cell_type": "markdown",
   "metadata": {},
   "source": [
    "# Conclusion"
   ]
  },
  {
   "cell_type": "markdown",
   "metadata": {},
   "source": [
    "### Astoria(Queens), Blissville(Queens), Civic Center(Manhattan) are some of the best neighborhoods for indian cuisine.\n",
    "### Manhattan have potential Indian Resturant Market\n",
    "### Staten Island ranks last in average rating of Indian Resturants.\n",
    "### Manhattan is the best place to stay if you prefer Indian Cuisine.\n",
    "\n",
    "## Limitations\n",
    "\n",
    "### The ranking is purely on basis of rating of resturants\n",
    "### The accuracy of data depends purely depends on the data provided by FourSquare\n"
   ]
  },
  {
   "cell_type": "markdown",
   "metadata": {},
   "source": [
    "### Thank You :)"
   ]
  }
 ],
 "metadata": {
  "kernelspec": {
   "display_name": "Python",
   "language": "python",
   "name": "conda-env-python-py"
  },
  "language_info": {
   "codemirror_mode": {
    "name": "ipython",
    "version": 3
   },
   "file_extension": ".py",
   "mimetype": "text/x-python",
   "name": "python",
   "nbconvert_exporter": "python",
   "pygments_lexer": "ipython3",
   "version": "3.6.10"
  }
 },
 "nbformat": 4,
 "nbformat_minor": 4
}
