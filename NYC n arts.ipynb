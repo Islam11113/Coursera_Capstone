{
 "cells": [
  {
   "cell_type": "markdown",
   "metadata": {},
   "source": [
    "# __The Battle of Neighborhoods: Artist in New York City__"
   ]
  },
  {
   "cell_type": "markdown",
   "metadata": {},
   "source": [
    "## Introduction/Business Problem"
   ]
  },
  {
   "cell_type": "markdown",
   "metadata": {},
   "source": [
    "### *NYC's indisputable status as the cultural capital of the world is based, in part, on the wealth of museums and art galleries that afford every visitor the opportunity to revel in a wide array of works from all over the world.  Within the five boroughs of NYC, there are over 170 museums including zoos and specialized public libraries, and over 1,000 art galleries. As a thriving artist, looking to relocate to NYC, I would like to explore the different neighborhoods and compare between them, then share my findings in my Instagram Page. The Desired location should be near to inspiring locations, art colleges and schools were I can find like minded people and Art galle*"
   ]
  },
  {
   "cell_type": "code",
   "execution_count": null,
   "metadata": {},
   "outputs": [],
   "source": []
  },
  {
   "cell_type": "markdown",
   "metadata": {},
   "source": [
    "## Data section"
   ]
  },
  {
   "cell_type": "markdown",
   "metadata": {},
   "source": [
    "### *I will be using Foursquare location data to execute my project, the confirm the viability of the data using Google Maps*"
   ]
  },
  {
   "cell_type": "code",
   "execution_count": null,
   "metadata": {},
   "outputs": [],
   "source": []
  }
 ],
 "metadata": {
  "kernelspec": {
   "display_name": "Python",
   "language": "python",
   "name": "conda-env-python-py"
  },
  "language_info": {
   "codemirror_mode": {
    "name": "ipython",
    "version": 3
   },
   "file_extension": ".py",
   "mimetype": "text/x-python",
   "name": "python",
   "nbconvert_exporter": "python",
   "pygments_lexer": "ipython3",
   "version": "3.6.10"
  }
 },
 "nbformat": 4,
 "nbformat_minor": 4
}
