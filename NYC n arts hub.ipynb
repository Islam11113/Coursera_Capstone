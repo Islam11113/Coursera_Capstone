{
 "cells": [
  {
   "cell_type": "markdown",
   "metadata": {},
   "source": [
    "# __The Battle of Neighborhoods: Artist in New York City__"
   ]
  },
  {
   "cell_type": "markdown",
   "metadata": {},
   "source": [
    "## Introduction/Business Problem"
   ]
  },
  {
   "cell_type": "markdown",
   "metadata": {},
   "source": [
    "### *NYC's indisputable status as the cultural capital of the world is based, in part, on the wealth of museums and art galleries that afford every visitor the opportunity to revel in a wide array of works from all over the world.  Within the five boroughs of NYC, there are over 170 museums including zoos and specialized public libraries, and over 1,000 art galleries.*"
   ]
  },
  {
   "cell_type": "markdown",
   "metadata": {},
   "source": [
    "### *As a thriving artist, looking to relocate to NYC, I would like to explore the different neighborhoods and compare between them, then share my findings in my Instagram Page and art circles for my fellow artists to help them make smart and efficient decision on selecting artist friendly \"New Homes\" in a great neighborhood in a bust city like NYC* "
   ]
  },
  {
   "cell_type": "markdown",
   "metadata": {},
   "source": [
    "### *After discussing with my circle of artists, we came up with the below as primary specs of The Desired location. It should have the following features*\n",
    "#### *Be near to inspiring locations with beautiful landscape or futuristic veiw*\n",
    "#### *Near the art colleges and schools were I can find like minded people, and attend workshops or cources conducted*\n",
    "#### *Near Art galleries and studios to showcase my Arts.*\n",
    "#### *All this with a rent that doesn't cost an arm and a leg :S*"
   ]
  },
  {
   "cell_type": "markdown",
   "metadata": {},
   "source": [
    "## Data section"
   ]
  },
  {
   "cell_type": "markdown",
   "metadata": {},
   "source": [
    "### *I will be using Foursquare location data to execute my project, the confirm the viability of the data using Google Maps*"
   ]
  },
  {
   "cell_type": "markdown",
   "metadata": {},
   "source": [
    "#### Using my credentials of Foursquare API features of near-by places of the neighborhoods would be mined. \n",
    "#### Due to http request limitations the number of places per neighborhood parameter would reasonably be set to 100 and the radius parameter would be set to 500. \n",
    "#### Clustering Approach:\n",
    "##### To compare & explore neighborhoods, segment them, and group them into clusters to find neighborhoods meeting more than one of my desired criteria in a big city like New York. #### the Project will also use the following libraries:\n",
    "##### Pandas: For creating and manipulating dataframes.\n",
    "##### Folium: Python visualization library would be used to visualize the neighborhoods cluster distribution of using interactive leaflet map.\n",
    "##### Scikit Learn: For importing k-means clustering.\n",
    "##### JSON: Library to handle JSON files.\n",
    "##### XML: To separate data from presentation and XML stores data in plain text format.\n",
    "##### Geocoder: To retrieve Location Data.\n",
    "##### Beautiful Soup and Requests: To scrap and library to handle http requests \n",
    "#### Google maps will be used in the last step for comfirmation of results\n",
    "#### External like to instagram page will be shared to show the post\n"
   ]
  },
  {
   "cell_type": "code",
   "execution_count": null,
   "metadata": {},
   "outputs": [],
   "source": []
  }
 ],
 "metadata": {
  "kernelspec": {
   "display_name": "Python",
   "language": "python",
   "name": "conda-env-python-py"
  },
  "language_info": {
   "codemirror_mode": {
    "name": "ipython",
    "version": 3
   },
   "file_extension": ".py",
   "mimetype": "text/x-python",
   "name": "python",
   "nbconvert_exporter": "python",
   "pygments_lexer": "ipython3",
   "version": "3.6.10"
  }
 },
 "nbformat": 4,
 "nbformat_minor": 4
}
